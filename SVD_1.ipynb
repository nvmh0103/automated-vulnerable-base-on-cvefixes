{
 "cells": [
  {
   "cell_type": "markdown",
   "metadata": {},
   "source": [
    "# Software Vulnerability Detection using Deep Learning (Experiment Replication)"
   ]
  },
  {
   "cell_type": "markdown",
   "metadata": {},
   "source": [
    "### Multicolumn experiment (All CWEs and others)"
   ]
  },
  {
   "cell_type": "markdown",
   "metadata": {},
   "source": [
    "* This is from Russell et. al work (Automated Vulnerability Detection in Source Code Using Deep Representation Learning) https://arxiv.org/abs/1807.04320\n",
    "* Datasets downloaded from https://osf.io/d45bw/\n",
    "* Datasets distribution: Training (80%), Validation (10%), Testing (10%)\n",
    "* The dataset consists of the source code of 1.27 million functions mined from open source software, labeled by static analysis for potential vulnerabilities.\n",
    "* Each function's raw source code, starting from the function name, is stored as a variable-length UTF-8 string. Five binary 'vulnerability' labels are provided for each function, corresponding to the four most common CWEs in our data plus all others: \n",
    " * CWE-120 (3.7% of functions)\n",
    " * CWE-119 (1.9% of functions)\n",
    " * CWE-469 (0.95% of functions)\n",
    " * CWE-476 (0.21% of functions)\n",
    " * CWE-other (2.7% of functions)\n",
    "* Functions may have more than one detected CWE each.\n",
    "* Python 3.6 and Tensorflow 2.0.0"
   ]
  },
  {
   "cell_type": "markdown",
   "metadata": {},
   "source": [
    "## Pre-processing"
   ]
  },
  {
   "cell_type": "markdown",
   "metadata": {},
   "source": [
    "Using CVE-fixes database "
   ]
  },
  {
   "cell_type": "markdown",
   "metadata": {},
   "source": [
    "Import libs"
   ]
  },
  {
   "cell_type": "code",
   "execution_count": 3,
   "metadata": {},
   "outputs": [],
   "source": [
    "import pandas as pd\n",
    "import matplotlib.pyplot as plt\n",
    "import sqlite3 as lite\n",
    "from sqlite3 import Error\n",
    "from pathlib import Path\n",
    "from datetime import date\n",
    "import numpy as np\n",
    "import seaborn as sns\n",
    "import matplotlib.ticker as tick\n",
    "import requests\n",
    "import difflib as diff\n",
    "import re \n",
    "import csv\n",
    "import ast\n",
    "%matplotlib inline"
   ]
  },
  {
   "cell_type": "markdown",
   "metadata": {},
   "source": [
    "Create connection to database"
   ]
  },
  {
   "cell_type": "code",
   "execution_count": 4,
   "metadata": {},
   "outputs": [],
   "source": [
    "def create_connection(db_file):\n",
    "    \"\"\"\n",
    "    create a connection to sqlite3 database\n",
    "    \"\"\"\n",
    "    conn = None\n",
    "    try:\n",
    "        conn = lite.connect(db_file, timeout=10)  # connection via sqlite3\n",
    "        # engine = sa.create_engine('sqlite:///' + db_file)  # connection via sqlalchemy\n",
    "        # conn = engine.connect()\n",
    "    except Error as e:\n",
    "        print(e)\n",
    "    return conn\n",
    "DATA_PATH = Path.cwd().parents[0] / 'Data'\n",
    "FIGURE_PATH = Path.cwd() / 'figures'\n",
    "RESULT_PATH = Path.cwd() / 'results'\n",
    "\n",
    "Path(DATA_PATH).mkdir(parents=True, exist_ok=True)\n",
    "Path(FIGURE_PATH).mkdir(parents=True, exist_ok=True)\n",
    "Path(RESULT_PATH).mkdir(parents=True, exist_ok=True)\n",
    "\n",
    "conn = create_connection(\"CVEfixes.db\")"
   ]
  },
  {
   "cell_type": "markdown",
   "metadata": {},
   "source": [
    "Get code and CWE from JavaScript"
   ]
  },
  {
   "cell_type": "code",
   "execution_count": 6,
   "metadata": {},
   "outputs": [
    {
     "name": "stdout",
     "output_type": "stream",
     "text": [
      "                                                    code  cwe_id\n",
      "0      \\t_setOption: function( key, value ) {\\n\\t\\tva...  CWE-79\n",
      "1      \\t_setOption: function( key, value ) {\\n\\t\\tva...  CWE-79\n",
      "2      \\t_title: function( title ) {\\n\\t\\tif ( !this....  CWE-79\n",
      "3      \\t\\tcontent: function() {\\n\\t\\t\\treturn $( thi...  CWE-79\n",
      "4      \\t\\tcontent: function() {\\n\\t\\t\\tvar title = $...  CWE-79\n",
      "...                                                  ...     ...\n",
      "14245      AnsiUp.prototype.transform_to_html = funct...  CWE-79\n",
      "14246      AnsiUp.prototype.transform_to_html = funct...  CWE-79\n",
      "14247      function AnsiUp() {\\n        this.VERSION ...  CWE-79\n",
      "14248      function AnsiUp() {\\n        this.VERSION ...  CWE-79\n",
      "14249  function minify(req, res, next)\\n{\\n  var file...  CWE-22\n",
      "\n",
      "[14250 rows x 2 columns]\n"
     ]
    }
   ],
   "source": [
    "query = pd.read_sql_query(\"SELECT m.code, \\\n",
    " cwe.cwe_id FROM method_change m, file_change f, commits cm, fixes, cve, cwe_classification cwe \\\n",
    "WHERE f.file_change_id=m.file_change_id AND cm.hash=f.hash AND cm.hash=fixes.hash AND fixes.cve_id=cve.cve_id AND cve.cve_id=cwe.cve_id AND f.programming_language='JavaScript'\", conn)\n",
    "query.to_pickle('methods.pickle')\n",
    "print(query)"
   ]
  },
  {
   "cell_type": "markdown",
   "metadata": {},
   "source": [
    "Query to get the top CWE\n"
   ]
  },
  {
   "cell_type": "code",
   "execution_count": 9,
   "metadata": {},
   "outputs": [
    {
     "name": "stdout",
     "output_type": "stream",
     "text": [
      "            cwe_id  Number\n",
      "0           CWE-89    6248\n",
      "1           CWE-79    4716\n",
      "2          CWE-352     854\n",
      "3           CWE-74     652\n",
      "4           CWE-94     366\n",
      "5         CWE-1236     243\n",
      "6           CWE-20     189\n",
      "7           CWE-22     181\n",
      "8   NVD-CWE-noinfo     135\n",
      "9          CWE-400     113\n",
      "10   NVD-CWE-Other      90\n",
      "11          CWE-78      68\n",
      "12          CWE-77      44\n",
      "13         CWE-384      43\n",
      "14         CWE-732      36\n",
      "15         CWE-200      27\n",
      "16         CWE-436      21\n",
      "17         CWE-287      18\n",
      "18         CWE-918      17\n",
      "19         CWE-284      16\n",
      "20          CWE-88      11\n",
      "21         CWE-674      11\n",
      "22         CWE-330      11\n",
      "23         CWE-502      10\n",
      "24         CWE-434      10\n",
      "25         CWE-345       9\n",
      "26         CWE-310       9\n",
      "27         CWE-668       8\n",
      "28         CWE-601       8\n",
      "29         CWE-295       8\n",
      "30          CWE-59       7\n",
      "31         CWE-444       6\n",
      "32         CWE-185       6\n",
      "33         CWE-863       4\n",
      "34         CWE-787       4\n",
      "35         CWE-346       4\n",
      "36         CWE-255       4\n",
      "37         CWE-254       4\n",
      "38         CWE-214       4\n",
      "39         CWE-178       4\n",
      "40        CWE-1188       4\n",
      "41          CWE-90       3\n",
      "42         CWE-521       3\n",
      "43         CWE-471       3\n",
      "44         CWE-125       3\n",
      "45         CWE-915       2\n",
      "46         CWE-913       2\n",
      "47         CWE-522       2\n",
      "48         CWE-327       2\n",
      "49         CWE-312       2\n",
      "50         CWE-120       2\n",
      "51         CWE-119       2\n",
      "52         CWE-399       1\n"
     ]
    }
   ],
   "source": [
    "get_top_cwe = pd.read_sql_query(\"SELECT DISTINCT cwe.cwe_id, COUNT(*) as Number FROM method_change m, file_change f, commits cm, fixes, cve, cwe_classification cwe WHERE f.file_change_id=m.file_change_id AND cm.hash=f.hash AND cm.hash=fixes.hash AND fixes.cve_id=cve.cve_id AND cve.cve_id=cwe.cve_id AND f.programming_language='JavaScript' GROUP BY cwe.cwe_id ORDER BY COUNT(*) DESC\",conn)\n",
    "print(get_top_cwe)"
   ]
  },
  {
   "cell_type": "markdown",
   "metadata": {},
   "source": [
    "Creating dataframe consists of top 4 CWE, the rest is list as CWE-other"
   ]
  },
  {
   "cell_type": "code",
   "execution_count": 10,
   "metadata": {},
   "outputs": [
    {
     "name": "stderr",
     "output_type": "stream",
     "text": [
      "/tmp/ipykernel_5584/2756229120.py:27: FutureWarning: In a future version of pandas all arguments of DataFrame.drop except for the argument 'labels' will be keyword-only\n",
      "  data = data.drop('cwe_id',1)\n"
     ]
    }
   ],
   "source": [
    "method = pd.read_pickle('methods.pickle')\n",
    "cwe_array = method['cwe_id'].to_numpy()\n",
    "# creating array to store all cwe\n",
    "CWE_Other = np.full(14250,False)\n",
    "CWE_89 = np.full(14250,False)\n",
    "CWE_79 = np.full(14250,False)\n",
    "CWE_352 = np.full(14250,False)\n",
    "CWE_74 = np.full(14250,False)\n",
    "\n",
    "# Processing \n",
    "\n",
    "for idx, val in enumerate(cwe_array):\n",
    "    if (val == \"CWE-89\"):\n",
    "        CWE_89[idx]= True\n",
    "    elif (val == \"CWE-79\"):\n",
    "        CWE_79[idx] = True\n",
    "    elif (val == \"CWE-352\"):\n",
    "        CWE_352[idx] = True\n",
    "    elif (val == \"CWE-74\"):\n",
    "        CWE_74[idx] = True\n",
    "    else:\n",
    "        CWE_Other[idx]= True\n",
    "    \n",
    "\n",
    "# Creating the full dataset\n",
    "data = pd.read_pickle('methods.pickle')\n",
    "data = data.drop('cwe_id',1)\n",
    "data['CWE-89']= CWE_89 \n",
    "data['CWE-79']= CWE_79\n",
    "data['CWE-352']= CWE_352\n",
    "data['CWE-74']= CWE_74\n",
    "data['CWE-Other'] = CWE_Other\n",
    "\n",
    "final_frame = data.copy()\n",
    "final_frame.to_pickle(\"full_set.pickle\")\n"
   ]
  },
  {
   "cell_type": "markdown",
   "metadata": {},
   "source": [
    "Check the train set"
   ]
  },
  {
   "cell_type": "code",
   "execution_count": 11,
   "metadata": {},
   "outputs": [],
   "source": [
    "df = pd.read_pickle('full_set.pickle');\n",
    "# distribute data for train, test, validate\n",
    "\n",
    "# for training\n",
    "df_train =df.iloc[0:11400:,0:]\n",
    "df_train.to_pickle('train.pickle')\n",
    "\n",
    "# for validating\n",
    "df_validate= df.iloc[11400:12825,0:]\n",
    "df_validate.to_pickle('validate.pickle')\n",
    "\n",
    "# for testing\n",
    "df_test = df.iloc[12825:14250,0:]\n",
    "df_test.to_pickle('test.pickle')"
   ]
  },
  {
   "cell_type": "code",
   "execution_count": 19,
   "metadata": {},
   "outputs": [],
   "source": [
    "mydf.to_pickle(\"VDISC_train.pickle\")\n",
    "#mydf.to_pickle(\"VDISC_validate.pickle\")\n",
    "#mydf.to_pickle(\"VDISC_test.pickle\")"
   ]
  },
  {
   "cell_type": "markdown",
   "metadata": {},
   "source": [
    "## Exploratory Data Analysis"
   ]
  },
  {
   "cell_type": "markdown",
   "metadata": {},
   "source": [
    "### Importing processed datasets"
   ]
  },
  {
   "cell_type": "code",
   "execution_count": 12,
   "metadata": {},
   "outputs": [],
   "source": [
    "train=pd.read_pickle(\"train.pickle\")\n",
    "validate=pd.read_pickle(\"validate.pickle\")\n",
    "test=pd.read_pickle(\"test.pickle\")"
   ]
  },
  {
   "cell_type": "code",
   "execution_count": 4,
   "metadata": {},
   "outputs": [],
   "source": [
    "### CONTINUE LATER"
   ]
  },
  {
   "cell_type": "markdown",
   "metadata": {},
   "source": [
    "## Learning Phase"
   ]
  },
  {
   "cell_type": "markdown",
   "metadata": {},
   "source": [
    "### Importing libraries"
   ]
  },
  {
   "cell_type": "code",
   "execution_count": 14,
   "metadata": {},
   "outputs": [
    {
     "name": "stderr",
     "output_type": "stream",
     "text": [
      "2021-12-29 03:23:14.718136: W tensorflow/stream_executor/platform/default/dso_loader.cc:64] Could not load dynamic library 'libcudart.so.11.0'; dlerror: libcudart.so.11.0: cannot open shared object file: No such file or directory\n",
      "2021-12-29 03:23:14.718164: I tensorflow/stream_executor/cuda/cudart_stub.cc:29] Ignore above cudart dlerror if you do not have a GPU set up on your machine.\n"
     ]
    },
    {
     "name": "stdout",
     "output_type": "stream",
     "text": [
      "Tensorlfow version:  2.7.0\n",
      "Eager mode:  True\n",
      "WARNING:tensorflow:From /tmp/ipykernel_5584/2496374536.py:10: is_gpu_available (from tensorflow.python.framework.test_util) is deprecated and will be removed in a future version.\n",
      "Instructions for updating:\n",
      "Use `tf.config.list_physical_devices('GPU')` instead.\n",
      "GPU is NOT AVAILABLE\n"
     ]
    },
    {
     "name": "stderr",
     "output_type": "stream",
     "text": [
      "2021-12-29 03:23:16.494389: I tensorflow/core/platform/cpu_feature_guard.cc:151] This TensorFlow binary is optimized with oneAPI Deep Neural Network Library (oneDNN) to use the following CPU instructions in performance-critical operations:  AVX2 AVX512F FMA\n",
      "To enable them in other operations, rebuild TensorFlow with the appropriate compiler flags.\n",
      "2021-12-29 03:23:16.495403: W tensorflow/stream_executor/platform/default/dso_loader.cc:64] Could not load dynamic library 'libcuda.so.1'; dlerror: libcuda.so.1: cannot open shared object file: No such file or directory\n",
      "2021-12-29 03:23:16.495423: W tensorflow/stream_executor/cuda/cuda_driver.cc:269] failed call to cuInit: UNKNOWN ERROR (303)\n",
      "2021-12-29 03:23:16.495453: I tensorflow/stream_executor/cuda/cuda_diagnostics.cc:156] kernel driver does not appear to be running on this host (instance-2): /proc/driver/nvidia/version does not exist\n"
     ]
    }
   ],
   "source": [
    "import tensorflow as tf\n",
    "import numpy as np\n",
    "import pandas as pd\n",
    "import matplotlib.pyplot as plt\n",
    "import sklearn.metrics\n",
    "import pickle\n",
    "\n",
    "print(\"Tensorlfow version: \", tf.__version__)\n",
    "print(\"Eager mode: \", tf.executing_eagerly())\n",
    "print(\"GPU is\", \"available\" if tf.test.is_gpu_available() else \"NOT AVAILABLE\")"
   ]
  },
  {
   "cell_type": "markdown",
   "metadata": {},
   "source": [
    "### Setting static and global variables"
   ]
  },
  {
   "cell_type": "code",
   "execution_count": 15,
   "metadata": {},
   "outputs": [
    {
     "name": "stdout",
     "output_type": "stream",
     "text": [
      "Random seed is: 71926\n"
     ]
    }
   ],
   "source": [
    "# Generate random seed\n",
    "#myrand=np.random.randint(1, 99999 + 1)\n",
    "myrand=71926\n",
    "np.random.seed(myrand)\n",
    "tf.random.set_seed(myrand)\n",
    "print(\"Random seed is:\",myrand)"
   ]
  },
  {
   "cell_type": "code",
   "execution_count": 16,
   "metadata": {},
   "outputs": [],
   "source": [
    "# Set the global value\n",
    "WORDS_SIZE=10000\n",
    "INPUT_SIZE=500\n",
    "NUM_CLASSES=2\n",
    "MODEL_NUM=0\n",
    "EPOCHS=10"
   ]
  },
  {
   "cell_type": "markdown",
   "metadata": {},
   "source": [
    "### Importing processed datasets"
   ]
  },
  {
   "cell_type": "code",
   "execution_count": 17,
   "metadata": {},
   "outputs": [],
   "source": [
    "train=pd.read_pickle(\"train.pickle\")\n",
    "validate=pd.read_pickle(\"validate.pickle\")\n",
    "test=pd.read_pickle(\"test.pickle\")\n",
    "\n",
    "for dataset in [train,validate,test]:\n",
    "    for col in range(1,6):\n",
    "        dataset.iloc[:,col] = dataset.iloc[:,col].map({False: 0, True: 1})\n",
    "\n",
    "# Create source code sdata for tokenization\n",
    "x_all = train['code']\n",
    "#x_all = x_all.append(validate['functionSource'])\n",
    "#x_all = x_all.append(test['functionSource'])"
   ]
  },
  {
   "cell_type": "code",
   "execution_count": 18,
   "metadata": {},
   "outputs": [
    {
     "data": {
      "text/html": [
       "<div>\n",
       "<style scoped>\n",
       "    .dataframe tbody tr th:only-of-type {\n",
       "        vertical-align: middle;\n",
       "    }\n",
       "\n",
       "    .dataframe tbody tr th {\n",
       "        vertical-align: top;\n",
       "    }\n",
       "\n",
       "    .dataframe thead th {\n",
       "        text-align: right;\n",
       "    }\n",
       "</style>\n",
       "<table border=\"1\" class=\"dataframe\">\n",
       "  <thead>\n",
       "    <tr style=\"text-align: right;\">\n",
       "      <th></th>\n",
       "      <th>code</th>\n",
       "      <th>CWE-89</th>\n",
       "      <th>CWE-79</th>\n",
       "      <th>CWE-352</th>\n",
       "      <th>CWE-74</th>\n",
       "      <th>CWE-Other</th>\n",
       "    </tr>\n",
       "  </thead>\n",
       "  <tbody>\n",
       "    <tr>\n",
       "      <th>0</th>\n",
       "      <td>\\t_setOption: function( key, value ) {\\n\\t\\tva...</td>\n",
       "      <td>0</td>\n",
       "      <td>1</td>\n",
       "      <td>0</td>\n",
       "      <td>0</td>\n",
       "      <td>0</td>\n",
       "    </tr>\n",
       "    <tr>\n",
       "      <th>1</th>\n",
       "      <td>\\t_setOption: function( key, value ) {\\n\\t\\tva...</td>\n",
       "      <td>0</td>\n",
       "      <td>1</td>\n",
       "      <td>0</td>\n",
       "      <td>0</td>\n",
       "      <td>0</td>\n",
       "    </tr>\n",
       "    <tr>\n",
       "      <th>2</th>\n",
       "      <td>\\t_title: function( title ) {\\n\\t\\tif ( !this....</td>\n",
       "      <td>0</td>\n",
       "      <td>1</td>\n",
       "      <td>0</td>\n",
       "      <td>0</td>\n",
       "      <td>0</td>\n",
       "    </tr>\n",
       "    <tr>\n",
       "      <th>3</th>\n",
       "      <td>\\t\\tcontent: function() {\\n\\t\\t\\treturn $( thi...</td>\n",
       "      <td>0</td>\n",
       "      <td>1</td>\n",
       "      <td>0</td>\n",
       "      <td>0</td>\n",
       "      <td>0</td>\n",
       "    </tr>\n",
       "    <tr>\n",
       "      <th>4</th>\n",
       "      <td>\\t\\tcontent: function() {\\n\\t\\t\\tvar title = $...</td>\n",
       "      <td>0</td>\n",
       "      <td>1</td>\n",
       "      <td>0</td>\n",
       "      <td>0</td>\n",
       "      <td>0</td>\n",
       "    </tr>\n",
       "  </tbody>\n",
       "</table>\n",
       "</div>"
      ],
      "text/plain": [
       "                                                code  CWE-89  CWE-79  CWE-352  \\\n",
       "0  \\t_setOption: function( key, value ) {\\n\\t\\tva...       0       1        0   \n",
       "1  \\t_setOption: function( key, value ) {\\n\\t\\tva...       0       1        0   \n",
       "2  \\t_title: function( title ) {\\n\\t\\tif ( !this....       0       1        0   \n",
       "3  \\t\\tcontent: function() {\\n\\t\\t\\treturn $( thi...       0       1        0   \n",
       "4  \\t\\tcontent: function() {\\n\\t\\t\\tvar title = $...       0       1        0   \n",
       "\n",
       "   CWE-74  CWE-Other  \n",
       "0       0          0  \n",
       "1       0          0  \n",
       "2       0          0  \n",
       "3       0          0  \n",
       "4       0          0  "
      ]
     },
     "execution_count": 18,
     "metadata": {},
     "output_type": "execute_result"
    }
   ],
   "source": [
    "# Overview of the datasets\n",
    "train.head()"
   ]
  },
  {
   "cell_type": "markdown",
   "metadata": {},
   "source": [
    "### Tokenizing the source codes"
   ]
  },
  {
   "cell_type": "code",
   "execution_count": 19,
   "metadata": {},
   "outputs": [
    {
     "name": "stdout",
     "output_type": "stream",
     "text": [
      "Number of tokens:  25446\n"
     ]
    }
   ],
   "source": [
    "# Tokenizer with word-level\n",
    "tokenizer = tf.keras.preprocessing.text.Tokenizer(char_level=False)\n",
    "tokenizer.fit_on_texts(list(x_all))\n",
    "del(x_all)\n",
    "print('Number of tokens: ',len(tokenizer.word_counts))"
   ]
  },
  {
   "cell_type": "code",
   "execution_count": 20,
   "metadata": {},
   "outputs": [],
   "source": [
    "# Reducing to top N words\n",
    "tokenizer.num_words = WORDS_SIZE"
   ]
  },
  {
   "cell_type": "code",
   "execution_count": 21,
   "metadata": {},
   "outputs": [
    {
     "data": {
      "text/plain": [
       "[('this', 5550343),\n",
       " ('t', 3020174),\n",
       " ('e', 2966786),\n",
       " ('a', 2119654),\n",
       " ('function', 1806102),\n",
       " ('i', 1727531),\n",
       " ('0', 1391282),\n",
       " ('n', 1236981),\n",
       " ('b', 1126133),\n",
       " ('s', 1058847)]"
      ]
     },
     "execution_count": 21,
     "metadata": {},
     "output_type": "execute_result"
    }
   ],
   "source": [
    "# Top 10 words\n",
    "sorted(tokenizer.word_counts.items(), key=lambda x:x[1], reverse=True)[0:10]"
   ]
  },
  {
   "cell_type": "markdown",
   "metadata": {},
   "source": [
    "### Create sequence files from the tokens"
   ]
  },
  {
   "cell_type": "code",
   "execution_count": 22,
   "metadata": {},
   "outputs": [],
   "source": [
    "## Tokkenizing train data and create matrix\n",
    "list_tokenized_train = tokenizer.texts_to_sequences(train['code'])\n",
    "x_train = tf.keras.preprocessing.sequence.pad_sequences(list_tokenized_train, \n",
    "                                  maxlen=INPUT_SIZE,\n",
    "                                  padding='post')\n",
    "x_train = x_train.astype(np.int64)"
   ]
  },
  {
   "cell_type": "code",
   "execution_count": 23,
   "metadata": {},
   "outputs": [],
   "source": [
    "## Tokkenizing test data and create matrix\n",
    "list_tokenized_test = tokenizer.texts_to_sequences(test['code'])\n",
    "x_test = tf.keras.preprocessing.sequence.pad_sequences(list_tokenized_test, \n",
    "                                 maxlen=INPUT_SIZE,\n",
    "                                 padding='post')\n",
    "x_test = x_test.astype(np.int64)"
   ]
  },
  {
   "cell_type": "code",
   "execution_count": 24,
   "metadata": {},
   "outputs": [],
   "source": [
    "## Tokkenizing validate data and create matrix\n",
    "list_tokenized_validate = tokenizer.texts_to_sequences(validate['code'])\n",
    "x_validate = tf.keras.preprocessing.sequence.pad_sequences(list_tokenized_validate, \n",
    "                                 maxlen=INPUT_SIZE,\n",
    "                                 padding='post')\n",
    "x_validate = x_validate.astype(np.int64)"
   ]
  },
  {
   "cell_type": "code",
   "execution_count": 25,
   "metadata": {},
   "outputs": [
    {
     "data": {
      "text/html": [
       "<div>\n",
       "<style scoped>\n",
       "    .dataframe tbody tr th:only-of-type {\n",
       "        vertical-align: middle;\n",
       "    }\n",
       "\n",
       "    .dataframe tbody tr th {\n",
       "        vertical-align: top;\n",
       "    }\n",
       "\n",
       "    .dataframe thead th {\n",
       "        text-align: right;\n",
       "    }\n",
       "</style>\n",
       "<table border=\"1\" class=\"dataframe\">\n",
       "  <thead>\n",
       "    <tr style=\"text-align: right;\">\n",
       "      <th></th>\n",
       "      <th>CWE-89</th>\n",
       "      <th>CWE-79</th>\n",
       "      <th>CWE-352</th>\n",
       "      <th>CWE-74</th>\n",
       "      <th>CWE-Other</th>\n",
       "    </tr>\n",
       "  </thead>\n",
       "  <tbody>\n",
       "    <tr>\n",
       "      <th>12825</th>\n",
       "      <td>0</td>\n",
       "      <td>1</td>\n",
       "      <td>0</td>\n",
       "      <td>0</td>\n",
       "      <td>0</td>\n",
       "    </tr>\n",
       "    <tr>\n",
       "      <th>12826</th>\n",
       "      <td>0</td>\n",
       "      <td>1</td>\n",
       "      <td>0</td>\n",
       "      <td>0</td>\n",
       "      <td>0</td>\n",
       "    </tr>\n",
       "    <tr>\n",
       "      <th>12827</th>\n",
       "      <td>0</td>\n",
       "      <td>1</td>\n",
       "      <td>0</td>\n",
       "      <td>0</td>\n",
       "      <td>0</td>\n",
       "    </tr>\n",
       "    <tr>\n",
       "      <th>12828</th>\n",
       "      <td>0</td>\n",
       "      <td>1</td>\n",
       "      <td>0</td>\n",
       "      <td>0</td>\n",
       "      <td>0</td>\n",
       "    </tr>\n",
       "    <tr>\n",
       "      <th>12829</th>\n",
       "      <td>0</td>\n",
       "      <td>1</td>\n",
       "      <td>0</td>\n",
       "      <td>0</td>\n",
       "      <td>0</td>\n",
       "    </tr>\n",
       "  </tbody>\n",
       "</table>\n",
       "</div>"
      ],
      "text/plain": [
       "       CWE-89  CWE-79  CWE-352  CWE-74  CWE-Other\n",
       "12825       0       1        0       0          0\n",
       "12826       0       1        0       0          0\n",
       "12827       0       1        0       0          0\n",
       "12828       0       1        0       0          0\n",
       "12829       0       1        0       0          0"
      ]
     },
     "execution_count": 25,
     "metadata": {},
     "output_type": "execute_result"
    }
   ],
   "source": [
    "# Example data\n",
    "test.iloc[0:5,1:6]"
   ]
  },
  {
   "cell_type": "markdown",
   "metadata": {},
   "source": [
    "### One-Hot-Enconding (OHE) on the datasets"
   ]
  },
  {
   "cell_type": "code",
   "execution_count": 26,
   "metadata": {},
   "outputs": [],
   "source": [
    "y_train=[]\n",
    "y_test=[]\n",
    "y_validate=[]\n",
    "\n",
    "for col in range(1,6):\n",
    "    y_train.append(tf.keras.utils.to_categorical(train.iloc[:,col], num_classes=NUM_CLASSES).astype(np.int64))\n",
    "    y_test.append(tf.keras.utils.to_categorical(test.iloc[:,col], num_classes=NUM_CLASSES).astype(np.int64))\n",
    "    y_validate.append(tf.keras.utils.to_categorical(validate.iloc[:,col], num_classes=NUM_CLASSES).astype(np.int64))"
   ]
  },
  {
   "cell_type": "code",
   "execution_count": 27,
   "metadata": {},
   "outputs": [
    {
     "data": {
      "text/plain": [
       "array([[1, 0],\n",
       "       [1, 0],\n",
       "       [1, 0],\n",
       "       [1, 0],\n",
       "       [1, 0],\n",
       "       [1, 0],\n",
       "       [1, 0],\n",
       "       [1, 0],\n",
       "       [1, 0]])"
      ]
     },
     "execution_count": 27,
     "metadata": {},
     "output_type": "execute_result"
    }
   ],
   "source": [
    "# Example data\n",
    "y_test[0][1:10]"
   ]
  },
  {
   "cell_type": "markdown",
   "metadata": {},
   "source": [
    "### Model Definition (CNN with Gaussian Noise and 5 Output Splits)"
   ]
  },
  {
   "cell_type": "code",
   "execution_count": 28,
   "metadata": {},
   "outputs": [],
   "source": [
    "# Create a random weights matrix\n",
    "\n",
    "random_weights = np.random.normal(size=(WORDS_SIZE, 13),scale=0.01)"
   ]
  },
  {
   "cell_type": "code",
   "execution_count": 29,
   "metadata": {},
   "outputs": [
    {
     "name": "stdout",
     "output_type": "stream",
     "text": [
      "CNN model built: \n",
      "Model: \"model\"\n",
      "__________________________________________________________________________________________________\n",
      " Layer (type)                   Output Shape         Param #     Connected to                     \n",
      "==================================================================================================\n",
      " input_1 (InputLayer)           [(None, 500)]        0           []                               \n",
      "                                                                                                  \n",
      " embedding (Embedding)          (None, 500, 13)      130000      ['input_1[0][0]']                \n",
      "                                                                                                  \n",
      " conv1d (Conv1D)                (None, 500, 512)     60416       ['embedding[0][0]']              \n",
      "                                                                                                  \n",
      " max_pooling1d (MaxPooling1D)   (None, 100, 512)     0           ['conv1d[0][0]']                 \n",
      "                                                                                                  \n",
      " dropout (Dropout)              (None, 100, 512)     0           ['max_pooling1d[0][0]']          \n",
      "                                                                                                  \n",
      " flatten (Flatten)              (None, 51200)        0           ['dropout[0][0]']                \n",
      "                                                                                                  \n",
      " dense (Dense)                  (None, 64)           3276864     ['flatten[0][0]']                \n",
      "                                                                                                  \n",
      " dense_1 (Dense)                (None, 16)           1040        ['dense[0][0]']                  \n",
      "                                                                                                  \n",
      " dense_2 (Dense)                (None, 2)            34          ['dense_1[0][0]']                \n",
      "                                                                                                  \n",
      " dense_3 (Dense)                (None, 2)            34          ['dense_1[0][0]']                \n",
      "                                                                                                  \n",
      " dense_4 (Dense)                (None, 2)            34          ['dense_1[0][0]']                \n",
      "                                                                                                  \n",
      " dense_5 (Dense)                (None, 2)            34          ['dense_1[0][0]']                \n",
      "                                                                                                  \n",
      " dense_6 (Dense)                (None, 2)            34          ['dense_1[0][0]']                \n",
      "                                                                                                  \n",
      "==================================================================================================\n",
      "Total params: 3,468,490\n",
      "Trainable params: 3,468,490\n",
      "Non-trainable params: 0\n",
      "__________________________________________________________________________________________________\n"
     ]
    },
    {
     "name": "stderr",
     "output_type": "stream",
     "text": [
      "/home/huydnevermore/.local/lib/python3.8/site-packages/keras/optimizer_v2/adam.py:105: UserWarning: The `lr` argument is deprecated, use `learning_rate` instead.\n",
      "  super(Adam, self).__init__(name, **kwargs)\n"
     ]
    }
   ],
   "source": [
    "# Must use non-sequential model building to create branches in the output layer\n",
    "inp_layer = tf.keras.layers.Input(shape=(INPUT_SIZE,))\n",
    "mid_layers = tf.keras.layers.Embedding(input_dim = WORDS_SIZE,\n",
    "                                    output_dim = 13,\n",
    "                                    weights=[random_weights],\n",
    "                                    input_length = INPUT_SIZE)(inp_layer)\n",
    "mid_layers = tf.keras.layers.Convolution1D(filters=512, kernel_size=(9), padding='same', activation='relu')(mid_layers)\n",
    "mid_layers = tf.keras.layers.MaxPool1D(pool_size=5)(mid_layers)\n",
    "mid_layers = tf.keras.layers.Dropout(0.5)(mid_layers)\n",
    "mid_layers = tf.keras.layers.Flatten()(mid_layers)\n",
    "mid_layers = tf.keras.layers.Dense(64, activation='relu')(mid_layers)\n",
    "mid_layers = tf.keras.layers.Dense(16, activation='relu')(mid_layers)\n",
    "output1 = tf.keras.layers.Dense(2, activation='softmax')(mid_layers)\n",
    "output2 = tf.keras.layers.Dense(2, activation='softmax')(mid_layers)\n",
    "output3 = tf.keras.layers.Dense(2, activation='softmax')(mid_layers)\n",
    "output4 =tf.keras.layers.Dense(2, activation='softmax')(mid_layers)\n",
    "output5 = tf.keras.layers.Dense(2, activation='softmax')(mid_layers)\n",
    "model = tf.keras.Model(inp_layer,[output1,output2,output3,output4,output5])\n",
    "\n",
    "# Define custom optimizers\n",
    "adam = tf.keras.optimizers.Adam(lr=0.005, beta_1=0.9, beta_2=0.999, epsilon=1, decay=0.0, amsgrad=False)\n",
    "\n",
    "## Compile model with metrics\n",
    "model.compile(optimizer=adam, loss='categorical_crossentropy', metrics=['accuracy'])\n",
    "print(\"CNN model built: \")\n",
    "model.summary()"
   ]
  },
  {
   "cell_type": "markdown",
   "metadata": {},
   "source": [
    "### Tensorboard Callbacks"
   ]
  },
  {
   "cell_type": "code",
   "execution_count": 30,
   "metadata": {},
   "outputs": [],
   "source": [
    "## Create TensorBoard callbacks\n",
    "\n",
    "callbackdir= '/home/huydnevermore/Desktop/tf'\n",
    "\n",
    "tbCallback = tf.keras.callbacks.TensorBoard(log_dir=callbackdir, \n",
    "                         histogram_freq=1,\n",
    "                         embeddings_freq=1,\n",
    "                         write_graph=True, \n",
    "                         write_images=True)\n",
    "\n",
    "tbCallback.set_model(model)\n",
    "mld = 'model/model-ALL-{epoch:02d}.hdf5'\n",
    "\n",
    "## Create best model callback\n",
    "mcp = tf.keras.callbacks.ModelCheckpoint(filepath=mld, \n",
    "                                         monitor=\"val_loss\",\n",
    "                                         save_best_only=True, \n",
    "                                         mode='auto', \n",
    "                                         save_freq='epoch', \n",
    "                                         verbose=1)"
   ]
  },
  {
   "cell_type": "markdown",
   "metadata": {},
   "source": [
    "### Model Training"
   ]
  },
  {
   "cell_type": "code",
   "execution_count": 31,
   "metadata": {},
   "outputs": [
    {
     "name": "stderr",
     "output_type": "stream",
     "text": [
      "2021-12-29 03:30:19.715551: W tensorflow/core/framework/cpu_allocator_impl.cc:82] Allocation of 45600000 exceeds 10% of free system memory.\n"
     ]
    },
    {
     "name": "stdout",
     "output_type": "stream",
     "text": [
      "Epoch 1/40\n"
     ]
    },
    {
     "name": "stderr",
     "output_type": "stream",
     "text": [
      "2021-12-29 03:30:23.696689: W tensorflow/core/framework/cpu_allocator_impl.cc:82] Allocation of 131072000 exceeds 10% of free system memory.\n",
      "2021-12-29 03:30:23.849845: W tensorflow/core/framework/cpu_allocator_impl.cc:82] Allocation of 52428800 exceeds 10% of free system memory.\n",
      "2021-12-29 03:30:23.849920: W tensorflow/core/framework/cpu_allocator_impl.cc:82] Allocation of 131072000 exceeds 10% of free system memory.\n"
     ]
    },
    {
     "name": "stdout",
     "output_type": "stream",
     "text": [
      " 1/90 [..............................] - ETA: 2:29 - loss: 3.4658 - dense_2_loss: 0.6933 - dense_3_loss: 0.6939 - dense_4_loss: 0.6933 - dense_5_loss: 0.6915 - dense_6_loss: 0.6937 - dense_2_accuracy: 0.4219 - dense_3_accuracy: 0.3281 - dense_4_accuracy: 0.3906 - dense_5_accuracy: 0.7969 - dense_6_accuracy: 0.2578"
     ]
    },
    {
     "name": "stderr",
     "output_type": "stream",
     "text": [
      "2021-12-29 03:30:24.071927: W tensorflow/core/framework/cpu_allocator_impl.cc:82] Allocation of 131072000 exceeds 10% of free system memory.\n"
     ]
    },
    {
     "name": "stdout",
     "output_type": "stream",
     "text": [
      "89/90 [============================>.] - ETA: 0s - loss: 3.3415 - dense_2_loss: 0.6900 - dense_3_loss: 0.6832 - dense_4_loss: 0.6512 - dense_5_loss: 0.6248 - dense_6_loss: 0.6923 - dense_2_accuracy: 0.5323 - dense_3_accuracy: 0.6742 - dense_4_accuracy: 0.8986 - dense_5_accuracy: 0.9873 - dense_6_accuracy: 0.6711\n",
      "Epoch 00001: val_loss improved from inf to 3.36789, saving model to model/model-ALL-01.hdf5\n",
      "90/90 [==============================] - 26s 269ms/step - loss: 3.3414 - dense_2_loss: 0.6900 - dense_3_loss: 0.6831 - dense_4_loss: 0.6512 - dense_5_loss: 0.6248 - dense_6_loss: 0.6923 - dense_2_accuracy: 0.5325 - dense_3_accuracy: 0.6743 - dense_4_accuracy: 0.8986 - dense_5_accuracy: 0.9873 - dense_6_accuracy: 0.6712 - val_loss: 3.3679 - val_dense_2_loss: 0.7901 - val_dense_3_loss: 0.6389 - val_dense_4_loss: 0.5653 - val_dense_5_loss: 0.6805 - val_dense_6_loss: 0.6929 - val_dense_2_accuracy: 0.0014 - val_dense_3_accuracy: 0.9509 - val_dense_4_accuracy: 1.0000 - val_dense_5_accuracy: 0.5719 - val_dense_6_accuracy: 0.4786\n",
      "Epoch 2/40\n",
      "89/90 [============================>.] - ETA: 0s - loss: 2.8849 - dense_2_loss: 0.6952 - dense_3_loss: 0.6454 - dense_4_loss: 0.4829 - dense_5_loss: 0.3724 - dense_6_loss: 0.6890 - dense_2_accuracy: 0.5479 - dense_3_accuracy: 0.7151 - dense_4_accuracy: 0.9250 - dense_5_accuracy: 0.9963 - dense_6_accuracy: 0.7514\n",
      "Epoch 00002: val_loss did not improve from 3.36789\n",
      "90/90 [==============================] - 22s 243ms/step - loss: 2.8848 - dense_2_loss: 0.6952 - dense_3_loss: 0.6455 - dense_4_loss: 0.4828 - dense_5_loss: 0.3723 - dense_6_loss: 0.6890 - dense_2_accuracy: 0.5479 - dense_3_accuracy: 0.7149 - dense_4_accuracy: 0.9251 - dense_5_accuracy: 0.9963 - dense_6_accuracy: 0.7516 - val_loss: 3.4060 - val_dense_2_loss: 1.0706 - val_dense_3_loss: 0.5281 - val_dense_4_loss: 0.3061 - val_dense_5_loss: 0.8073 - val_dense_6_loss: 0.6938 - val_dense_2_accuracy: 0.0014 - val_dense_3_accuracy: 0.9509 - val_dense_4_accuracy: 1.0000 - val_dense_5_accuracy: 0.5719 - val_dense_6_accuracy: 0.4786\n",
      "Epoch 3/40\n",
      "89/90 [============================>.] - ETA: 0s - loss: 2.4087 - dense_2_loss: 0.7246 - dense_3_loss: 0.6071 - dense_4_loss: 0.3173 - dense_5_loss: 0.1335 - dense_6_loss: 0.6263 - dense_2_accuracy: 0.5478 - dense_3_accuracy: 0.7148 - dense_4_accuracy: 0.9251 - dense_5_accuracy: 0.9963 - dense_6_accuracy: 0.9115\n",
      "Epoch 00003: val_loss did not improve from 3.36789\n",
      "90/90 [==============================] - 22s 242ms/step - loss: 2.4084 - dense_2_loss: 0.7245 - dense_3_loss: 0.6070 - dense_4_loss: 0.3173 - dense_5_loss: 0.1334 - dense_6_loss: 0.6262 - dense_2_accuracy: 0.5479 - dense_3_accuracy: 0.7149 - dense_4_accuracy: 0.9251 - dense_5_accuracy: 0.9963 - dense_6_accuracy: 0.9116 - val_loss: 3.6035 - val_dense_2_loss: 1.1313 - val_dense_3_loss: 0.4356 - val_dense_4_loss: 0.1410 - val_dense_5_loss: 1.1724 - val_dense_6_loss: 0.7232 - val_dense_2_accuracy: 0.0014 - val_dense_3_accuracy: 0.9509 - val_dense_4_accuracy: 1.0000 - val_dense_5_accuracy: 0.5719 - val_dense_6_accuracy: 0.4786\n",
      "Epoch 4/40\n",
      "89/90 [============================>.] - ETA: 0s - loss: 2.0655 - dense_2_loss: 0.6989 - dense_3_loss: 0.5958 - dense_4_loss: 0.2708 - dense_5_loss: 0.0522 - dense_6_loss: 0.4479 - dense_2_accuracy: 0.5481 - dense_3_accuracy: 0.7151 - dense_4_accuracy: 0.9252 - dense_5_accuracy: 0.9963 - dense_6_accuracy: 0.9115\n",
      "Epoch 00004: val_loss did not improve from 3.36789\n",
      "90/90 [==============================] - 21s 238ms/step - loss: 2.0658 - dense_2_loss: 0.6989 - dense_3_loss: 0.5959 - dense_4_loss: 0.2711 - dense_5_loss: 0.0522 - dense_6_loss: 0.4477 - dense_2_accuracy: 0.5479 - dense_3_accuracy: 0.7149 - dense_4_accuracy: 0.9251 - dense_5_accuracy: 0.9963 - dense_6_accuracy: 0.9116 - val_loss: 3.8493 - val_dense_2_loss: 0.8395 - val_dense_3_loss: 0.4224 - val_dense_4_loss: 0.0773 - val_dense_5_loss: 1.6021 - val_dense_6_loss: 0.9079 - val_dense_2_accuracy: 0.0014 - val_dense_3_accuracy: 0.9509 - val_dense_4_accuracy: 1.0000 - val_dense_5_accuracy: 0.5719 - val_dense_6_accuracy: 0.4786\n",
      "Epoch 5/40\n",
      "89/90 [============================>.] - ETA: 0s - loss: 1.8884 - dense_2_loss: 0.6755 - dense_3_loss: 0.5917 - dense_4_loss: 0.2707 - dense_5_loss: 0.0302 - dense_6_loss: 0.3202 - dense_2_accuracy: 0.5527 - dense_3_accuracy: 0.7148 - dense_4_accuracy: 0.9250 - dense_5_accuracy: 0.9963 - dense_6_accuracy: 0.9116\n",
      "Epoch 00005: val_loss did not improve from 3.36789\n",
      "90/90 [==============================] - 22s 239ms/step - loss: 1.8881 - dense_2_loss: 0.6755 - dense_3_loss: 0.5916 - dense_4_loss: 0.2706 - dense_5_loss: 0.0302 - dense_6_loss: 0.3203 - dense_2_accuracy: 0.5528 - dense_3_accuracy: 0.7149 - dense_4_accuracy: 0.9251 - dense_5_accuracy: 0.9963 - dense_6_accuracy: 0.9116 - val_loss: 4.2035 - val_dense_2_loss: 0.7324 - val_dense_3_loss: 0.4030 - val_dense_4_loss: 0.0619 - val_dense_5_loss: 1.8591 - val_dense_6_loss: 1.1471 - val_dense_2_accuracy: 0.0014 - val_dense_3_accuracy: 0.9509 - val_dense_4_accuracy: 1.0000 - val_dense_5_accuracy: 0.5719 - val_dense_6_accuracy: 0.4786\n",
      "Epoch 6/40\n",
      "89/90 [============================>.] - ETA: 0s - loss: 1.8362 - dense_2_loss: 0.6565 - dense_3_loss: 0.5815 - dense_4_loss: 0.2723 - dense_5_loss: 0.0269 - dense_6_loss: 0.2990 - dense_2_accuracy: 0.6445 - dense_3_accuracy: 0.7150 - dense_4_accuracy: 0.9251 - dense_5_accuracy: 0.9963 - dense_6_accuracy: 0.9115\n",
      "Epoch 00006: val_loss did not improve from 3.36789\n",
      "90/90 [==============================] - 22s 241ms/step - loss: 1.8362 - dense_2_loss: 0.6564 - dense_3_loss: 0.5816 - dense_4_loss: 0.2724 - dense_5_loss: 0.0269 - dense_6_loss: 0.2989 - dense_2_accuracy: 0.6446 - dense_3_accuracy: 0.7149 - dense_4_accuracy: 0.9251 - dense_5_accuracy: 0.9963 - dense_6_accuracy: 0.9116 - val_loss: 4.2941 - val_dense_2_loss: 0.6377 - val_dense_3_loss: 0.4325 - val_dense_4_loss: 0.0769 - val_dense_5_loss: 1.9102 - val_dense_6_loss: 1.2369 - val_dense_2_accuracy: 0.7909 - val_dense_3_accuracy: 0.9509 - val_dense_4_accuracy: 1.0000 - val_dense_5_accuracy: 0.5719 - val_dense_6_accuracy: 0.4786\n",
      "Epoch 7/40\n",
      "89/90 [============================>.] - ETA: 0s - loss: 1.7798 - dense_2_loss: 0.6232 - dense_3_loss: 0.5594 - dense_4_loss: 0.2755 - dense_5_loss: 0.0261 - dense_6_loss: 0.2956 - dense_2_accuracy: 0.7030 - dense_3_accuracy: 0.7149 - dense_4_accuracy: 0.9250 - dense_5_accuracy: 0.9963 - dense_6_accuracy: 0.9117\n",
      "Epoch 00007: val_loss did not improve from 3.36789\n",
      "90/90 [==============================] - 21s 237ms/step - loss: 1.7798 - dense_2_loss: 0.6231 - dense_3_loss: 0.5593 - dense_4_loss: 0.2754 - dense_5_loss: 0.0261 - dense_6_loss: 0.2959 - dense_2_accuracy: 0.7032 - dense_3_accuracy: 0.7149 - dense_4_accuracy: 0.9251 - dense_5_accuracy: 0.9963 - dense_6_accuracy: 0.9116 - val_loss: 4.3268 - val_dense_2_loss: 0.5178 - val_dense_3_loss: 0.5061 - val_dense_4_loss: 0.1039 - val_dense_5_loss: 1.9328 - val_dense_6_loss: 1.2661 - val_dense_2_accuracy: 0.8140 - val_dense_3_accuracy: 0.9509 - val_dense_4_accuracy: 1.0000 - val_dense_5_accuracy: 0.5719 - val_dense_6_accuracy: 0.4786\n",
      "Epoch 8/40\n",
      "89/90 [============================>.] - ETA: 0s - loss: 1.7427 - dense_2_loss: 0.6030 - dense_3_loss: 0.5368 - dense_4_loss: 0.2829 - dense_5_loss: 0.0250 - dense_6_loss: 0.2949 - dense_2_accuracy: 0.7046 - dense_3_accuracy: 0.7150 - dense_4_accuracy: 0.9250 - dense_5_accuracy: 0.9963 - dense_6_accuracy: 0.9116\n",
      "Epoch 00008: val_loss did not improve from 3.36789\n",
      "90/90 [==============================] - 22s 240ms/step - loss: 1.7428 - dense_2_loss: 0.6031 - dense_3_loss: 0.5369 - dense_4_loss: 0.2828 - dense_5_loss: 0.0250 - dense_6_loss: 0.2950 - dense_2_accuracy: 0.7046 - dense_3_accuracy: 0.7149 - dense_4_accuracy: 0.9251 - dense_5_accuracy: 0.9963 - dense_6_accuracy: 0.9116 - val_loss: 4.4352 - val_dense_2_loss: 0.4889 - val_dense_3_loss: 0.5499 - val_dense_4_loss: 0.1136 - val_dense_5_loss: 2.0040 - val_dense_6_loss: 1.2788 - val_dense_2_accuracy: 0.8161 - val_dense_3_accuracy: 0.9509 - val_dense_4_accuracy: 1.0000 - val_dense_5_accuracy: 0.5719 - val_dense_6_accuracy: 0.4786\n",
      "Epoch 9/40\n",
      "89/90 [============================>.] - ETA: 0s - loss: 1.7284 - dense_2_loss: 0.5980 - dense_3_loss: 0.5276 - dense_4_loss: 0.2837 - dense_5_loss: 0.0241 - dense_6_loss: 0.2949 - dense_2_accuracy: 0.7032 - dense_3_accuracy: 0.7159 - dense_4_accuracy: 0.9250 - dense_5_accuracy: 0.9963 - dense_6_accuracy: 0.9115\n",
      "Epoch 00009: val_loss did not improve from 3.36789\n",
      "90/90 [==============================] - 22s 242ms/step - loss: 1.7280 - dense_2_loss: 0.5979 - dense_3_loss: 0.5276 - dense_4_loss: 0.2836 - dense_5_loss: 0.0241 - dense_6_loss: 0.2948 - dense_2_accuracy: 0.7033 - dense_3_accuracy: 0.7158 - dense_4_accuracy: 0.9251 - dense_5_accuracy: 0.9963 - dense_6_accuracy: 0.9116 - val_loss: 4.5276 - val_dense_2_loss: 0.5161 - val_dense_3_loss: 0.5457 - val_dense_4_loss: 0.1100 - val_dense_5_loss: 2.0798 - val_dense_6_loss: 1.2760 - val_dense_2_accuracy: 0.8126 - val_dense_3_accuracy: 0.9509 - val_dense_4_accuracy: 1.0000 - val_dense_5_accuracy: 0.5719 - val_dense_6_accuracy: 0.4786\n",
      "Epoch 10/40\n",
      "89/90 [============================>.] - ETA: 0s - loss: 1.7183 - dense_2_loss: 0.5944 - dense_3_loss: 0.5226 - dense_4_loss: 0.2829 - dense_5_loss: 0.0238 - dense_6_loss: 0.2947 - dense_2_accuracy: 0.7029 - dense_3_accuracy: 0.7214 - dense_4_accuracy: 0.9251 - dense_5_accuracy: 0.9963 - dense_6_accuracy: 0.9117\n",
      "Epoch 00010: val_loss did not improve from 3.36789\n",
      "90/90 [==============================] - 22s 241ms/step - loss: 1.7188 - dense_2_loss: 0.5944 - dense_3_loss: 0.5228 - dense_4_loss: 0.2829 - dense_5_loss: 0.0237 - dense_6_loss: 0.2949 - dense_2_accuracy: 0.7029 - dense_3_accuracy: 0.7214 - dense_4_accuracy: 0.9251 - dense_5_accuracy: 0.9963 - dense_6_accuracy: 0.9116 - val_loss: 4.5946 - val_dense_2_loss: 0.4694 - val_dense_3_loss: 0.6128 - val_dense_4_loss: 0.1167 - val_dense_5_loss: 2.1159 - val_dense_6_loss: 1.2797 - val_dense_2_accuracy: 0.8288 - val_dense_3_accuracy: 0.9158 - val_dense_4_accuracy: 1.0000 - val_dense_5_accuracy: 0.5719 - val_dense_6_accuracy: 0.4786\n",
      "Epoch 11/40\n",
      "89/90 [============================>.] - ETA: 0s - loss: 1.7059 - dense_2_loss: 0.5885 - dense_3_loss: 0.5175 - dense_4_loss: 0.2816 - dense_5_loss: 0.0236 - dense_6_loss: 0.2948 - dense_2_accuracy: 0.7037 - dense_3_accuracy: 0.7342 - dense_4_accuracy: 0.9250 - dense_5_accuracy: 0.9963 - dense_6_accuracy: 0.9115\n",
      "Epoch 00011: val_loss did not improve from 3.36789\n",
      "90/90 [==============================] - 23s 253ms/step - loss: 1.7057 - dense_2_loss: 0.5886 - dense_3_loss: 0.5176 - dense_4_loss: 0.2814 - dense_5_loss: 0.0235 - dense_6_loss: 0.2946 - dense_2_accuracy: 0.7037 - dense_3_accuracy: 0.7342 - dense_4_accuracy: 0.9251 - dense_5_accuracy: 0.9963 - dense_6_accuracy: 0.9116 - val_loss: 4.6847 - val_dense_2_loss: 0.5338 - val_dense_3_loss: 0.5796 - val_dense_4_loss: 0.1039 - val_dense_5_loss: 2.1786 - val_dense_6_loss: 1.2889 - val_dense_2_accuracy: 0.8154 - val_dense_3_accuracy: 0.9509 - val_dense_4_accuracy: 1.0000 - val_dense_5_accuracy: 0.5719 - val_dense_6_accuracy: 0.4786\n",
      "Epoch 12/40\n",
      "89/90 [============================>.] - ETA: 0s - loss: 1.6936 - dense_2_loss: 0.5836 - dense_3_loss: 0.5138 - dense_4_loss: 0.2790 - dense_5_loss: 0.0235 - dense_6_loss: 0.2938 - dense_2_accuracy: 0.7030 - dense_3_accuracy: 0.7359 - dense_4_accuracy: 0.9250 - dense_5_accuracy: 0.9963 - dense_6_accuracy: 0.9117\n",
      "Epoch 00012: val_loss did not improve from 3.36789\n",
      "90/90 [==============================] - 22s 248ms/step - loss: 1.6936 - dense_2_loss: 0.5835 - dense_3_loss: 0.5137 - dense_4_loss: 0.2788 - dense_5_loss: 0.0234 - dense_6_loss: 0.2941 - dense_2_accuracy: 0.7031 - dense_3_accuracy: 0.7360 - dense_4_accuracy: 0.9251 - dense_5_accuracy: 0.9963 - dense_6_accuracy: 0.9116 - val_loss: 4.7061 - val_dense_2_loss: 0.5007 - val_dense_3_loss: 0.6081 - val_dense_4_loss: 0.1067 - val_dense_5_loss: 2.2059 - val_dense_6_loss: 1.2847 - val_dense_2_accuracy: 0.8288 - val_dense_3_accuracy: 0.8316 - val_dense_4_accuracy: 1.0000 - val_dense_5_accuracy: 0.5719 - val_dense_6_accuracy: 0.4786\n",
      "Epoch 13/40\n",
      "89/90 [============================>.] - ETA: 0s - loss: 1.6812 - dense_2_loss: 0.5783 - dense_3_loss: 0.5088 - dense_4_loss: 0.2775 - dense_5_loss: 0.0234 - dense_6_loss: 0.2932 - dense_2_accuracy: 0.7028 - dense_3_accuracy: 0.7445 - dense_4_accuracy: 0.9250 - dense_5_accuracy: 0.9963 - dense_6_accuracy: 0.9117\n",
      "Epoch 00013: val_loss did not improve from 3.36789\n",
      "90/90 [==============================] - 21s 235ms/step - loss: 1.6812 - dense_2_loss: 0.5782 - dense_3_loss: 0.5088 - dense_4_loss: 0.2774 - dense_5_loss: 0.0234 - dense_6_loss: 0.2934 - dense_2_accuracy: 0.7029 - dense_3_accuracy: 0.7445 - dense_4_accuracy: 0.9251 - dense_5_accuracy: 0.9963 - dense_6_accuracy: 0.9116 - val_loss: 4.7685 - val_dense_2_loss: 0.5138 - val_dense_3_loss: 0.6192 - val_dense_4_loss: 0.1014 - val_dense_5_loss: 2.2459 - val_dense_6_loss: 1.2881 - val_dense_2_accuracy: 0.8288 - val_dense_3_accuracy: 0.7551 - val_dense_4_accuracy: 1.0000 - val_dense_5_accuracy: 0.5719 - val_dense_6_accuracy: 0.4786\n",
      "Epoch 14/40\n",
      "89/90 [============================>.] - ETA: 0s - loss: 1.6633 - dense_2_loss: 0.5691 - dense_3_loss: 0.5027 - dense_4_loss: 0.2760 - dense_5_loss: 0.0233 - dense_6_loss: 0.2922 - dense_2_accuracy: 0.7037 - dense_3_accuracy: 0.7514 - dense_4_accuracy: 0.9250 - dense_5_accuracy: 0.9963 - dense_6_accuracy: 0.9115\n",
      "Epoch 00014: val_loss did not improve from 3.36789\n",
      "90/90 [==============================] - 21s 239ms/step - loss: 1.6633 - dense_2_loss: 0.5691 - dense_3_loss: 0.5029 - dense_4_loss: 0.2759 - dense_5_loss: 0.0233 - dense_6_loss: 0.2921 - dense_2_accuracy: 0.7036 - dense_3_accuracy: 0.7513 - dense_4_accuracy: 0.9251 - dense_5_accuracy: 0.9963 - dense_6_accuracy: 0.9116 - val_loss: 4.7548 - val_dense_2_loss: 0.5007 - val_dense_3_loss: 0.6044 - val_dense_4_loss: 0.1015 - val_dense_5_loss: 2.2741 - val_dense_6_loss: 1.2742 - val_dense_2_accuracy: 0.8365 - val_dense_3_accuracy: 0.7874 - val_dense_4_accuracy: 1.0000 - val_dense_5_accuracy: 0.5719 - val_dense_6_accuracy: 0.4786\n",
      "Epoch 15/40\n",
      "89/90 [============================>.] - ETA: 0s - loss: 1.6435 - dense_2_loss: 0.5595 - dense_3_loss: 0.4961 - dense_4_loss: 0.2732 - dense_5_loss: 0.0233 - dense_6_loss: 0.2913 - dense_2_accuracy: 0.7040 - dense_3_accuracy: 0.7587 - dense_4_accuracy: 0.9250 - dense_5_accuracy: 0.9963 - dense_6_accuracy: 0.9115\n",
      "Epoch 00015: val_loss did not improve from 3.36789\n",
      "90/90 [==============================] - 21s 237ms/step - loss: 1.6431 - dense_2_loss: 0.5594 - dense_3_loss: 0.4961 - dense_4_loss: 0.2731 - dense_5_loss: 0.0233 - dense_6_loss: 0.2912 - dense_2_accuracy: 0.7040 - dense_3_accuracy: 0.7588 - dense_4_accuracy: 0.9251 - dense_5_accuracy: 0.9963 - dense_6_accuracy: 0.9116 - val_loss: 4.7902 - val_dense_2_loss: 0.5175 - val_dense_3_loss: 0.6185 - val_dense_4_loss: 0.0996 - val_dense_5_loss: 2.2827 - val_dense_6_loss: 1.2719 - val_dense_2_accuracy: 0.8295 - val_dense_3_accuracy: 0.7347 - val_dense_4_accuracy: 1.0000 - val_dense_5_accuracy: 0.5719 - val_dense_6_accuracy: 0.4786\n",
      "Epoch 16/40\n",
      "89/90 [============================>.] - ETA: 0s - loss: 1.6158 - dense_2_loss: 0.5452 - dense_3_loss: 0.4872 - dense_4_loss: 0.2709 - dense_5_loss: 0.0233 - dense_6_loss: 0.2891 - dense_2_accuracy: 0.7091 - dense_3_accuracy: 0.7591 - dense_4_accuracy: 0.9252 - dense_5_accuracy: 0.9963 - dense_6_accuracy: 0.9116\n",
      "Epoch 00016: val_loss did not improve from 3.36789\n",
      "90/90 [==============================] - 21s 238ms/step - loss: 1.6164 - dense_2_loss: 0.5454 - dense_3_loss: 0.4873 - dense_4_loss: 0.2712 - dense_5_loss: 0.0233 - dense_6_loss: 0.2892 - dense_2_accuracy: 0.7089 - dense_3_accuracy: 0.7590 - dense_4_accuracy: 0.9251 - dense_5_accuracy: 0.9963 - dense_6_accuracy: 0.9116 - val_loss: 4.7556 - val_dense_2_loss: 0.5337 - val_dense_3_loss: 0.5756 - val_dense_4_loss: 0.0968 - val_dense_5_loss: 2.3011 - val_dense_6_loss: 1.2483 - val_dense_2_accuracy: 0.8302 - val_dense_3_accuracy: 0.7902 - val_dense_4_accuracy: 1.0000 - val_dense_5_accuracy: 0.5719 - val_dense_6_accuracy: 0.4786\n",
      "Epoch 17/40\n",
      "89/90 [============================>.] - ETA: 0s - loss: 1.5838 - dense_2_loss: 0.5292 - dense_3_loss: 0.4756 - dense_4_loss: 0.2685 - dense_5_loss: 0.0233 - dense_6_loss: 0.2872 - dense_2_accuracy: 0.7344 - dense_3_accuracy: 0.7669 - dense_4_accuracy: 0.9251 - dense_5_accuracy: 0.9963 - dense_6_accuracy: 0.9116\n",
      "Epoch 00017: val_loss did not improve from 3.36789\n",
      "90/90 [==============================] - 22s 240ms/step - loss: 1.5839 - dense_2_loss: 0.5292 - dense_3_loss: 0.4755 - dense_4_loss: 0.2686 - dense_5_loss: 0.0233 - dense_6_loss: 0.2873 - dense_2_accuracy: 0.7344 - dense_3_accuracy: 0.7669 - dense_4_accuracy: 0.9251 - dense_5_accuracy: 0.9963 - dense_6_accuracy: 0.9116 - val_loss: 4.8201 - val_dense_2_loss: 0.5619 - val_dense_3_loss: 0.5881 - val_dense_4_loss: 0.0910 - val_dense_5_loss: 2.3149 - val_dense_6_loss: 1.2642 - val_dense_2_accuracy: 0.8288 - val_dense_3_accuracy: 0.7670 - val_dense_4_accuracy: 1.0000 - val_dense_5_accuracy: 0.5719 - val_dense_6_accuracy: 0.4786\n",
      "Epoch 18/40\n",
      "89/90 [============================>.] - ETA: 0s - loss: 1.5424 - dense_2_loss: 0.5079 - dense_3_loss: 0.4615 - dense_4_loss: 0.2648 - dense_5_loss: 0.0232 - dense_6_loss: 0.2850 - dense_2_accuracy: 0.7565 - dense_3_accuracy: 0.7667 - dense_4_accuracy: 0.9252 - dense_5_accuracy: 0.9963 - dense_6_accuracy: 0.9115\n",
      "Epoch 00018: val_loss did not improve from 3.36789\n",
      "90/90 [==============================] - 23s 260ms/step - loss: 1.5428 - dense_2_loss: 0.5081 - dense_3_loss: 0.4616 - dense_4_loss: 0.2651 - dense_5_loss: 0.0232 - dense_6_loss: 0.2848 - dense_2_accuracy: 0.7563 - dense_3_accuracy: 0.7666 - dense_4_accuracy: 0.9251 - dense_5_accuracy: 0.9963 - dense_6_accuracy: 0.9116 - val_loss: 4.8410 - val_dense_2_loss: 0.5908 - val_dense_3_loss: 0.5674 - val_dense_4_loss: 0.0854 - val_dense_5_loss: 2.3370 - val_dense_6_loss: 1.2605 - val_dense_2_accuracy: 0.8288 - val_dense_3_accuracy: 0.7740 - val_dense_4_accuracy: 1.0000 - val_dense_5_accuracy: 0.5719 - val_dense_6_accuracy: 0.4786\n",
      "Epoch 19/40\n",
      "89/90 [============================>.] - ETA: 0s - loss: 1.4922 - dense_2_loss: 0.4827 - dense_3_loss: 0.4442 - dense_4_loss: 0.2609 - dense_5_loss: 0.0233 - dense_6_loss: 0.2811 - dense_2_accuracy: 0.7762 - dense_3_accuracy: 0.7707 - dense_4_accuracy: 0.9251 - dense_5_accuracy: 0.9963 - dense_6_accuracy: 0.9115\n",
      "Epoch 00019: val_loss did not improve from 3.36789\n",
      "90/90 [==============================] - 22s 241ms/step - loss: 1.4925 - dense_2_loss: 0.4830 - dense_3_loss: 0.4442 - dense_4_loss: 0.2611 - dense_5_loss: 0.0232 - dense_6_loss: 0.2810 - dense_2_accuracy: 0.7760 - dense_3_accuracy: 0.7707 - dense_4_accuracy: 0.9251 - dense_5_accuracy: 0.9963 - dense_6_accuracy: 0.9116 - val_loss: 4.7536 - val_dense_2_loss: 0.5906 - val_dense_3_loss: 0.5142 - val_dense_4_loss: 0.0875 - val_dense_5_loss: 2.3366 - val_dense_6_loss: 1.2247 - val_dense_2_accuracy: 0.8337 - val_dense_3_accuracy: 0.8295 - val_dense_4_accuracy: 1.0000 - val_dense_5_accuracy: 0.5719 - val_dense_6_accuracy: 0.4786\n",
      "Epoch 20/40\n",
      "89/90 [============================>.] - ETA: 0s - loss: 1.4393 - dense_2_loss: 0.4568 - dense_3_loss: 0.4258 - dense_4_loss: 0.2564 - dense_5_loss: 0.0233 - dense_6_loss: 0.2770 - dense_2_accuracy: 0.7963 - dense_3_accuracy: 0.8088 - dense_4_accuracy: 0.9250 - dense_5_accuracy: 0.9963 - dense_6_accuracy: 0.9116\n",
      "Epoch 00020: val_loss did not improve from 3.36789\n",
      "90/90 [==============================] - 22s 239ms/step - loss: 1.4391 - dense_2_loss: 0.4567 - dense_3_loss: 0.4258 - dense_4_loss: 0.2562 - dense_5_loss: 0.0233 - dense_6_loss: 0.2771 - dense_2_accuracy: 0.7964 - dense_3_accuracy: 0.8088 - dense_4_accuracy: 0.9251 - dense_5_accuracy: 0.9963 - dense_6_accuracy: 0.9116 - val_loss: 4.7694 - val_dense_2_loss: 0.5590 - val_dense_3_loss: 0.5432 - val_dense_4_loss: 0.0844 - val_dense_5_loss: 2.3569 - val_dense_6_loss: 1.2259 - val_dense_2_accuracy: 0.8414 - val_dense_3_accuracy: 0.7775 - val_dense_4_accuracy: 1.0000 - val_dense_5_accuracy: 0.5719 - val_dense_6_accuracy: 0.4786\n",
      "Epoch 21/40\n",
      "89/90 [============================>.] - ETA: 0s - loss: 1.3875 - dense_2_loss: 0.4331 - dense_3_loss: 0.4088 - dense_4_loss: 0.2511 - dense_5_loss: 0.0233 - dense_6_loss: 0.2712 - dense_2_accuracy: 0.7993 - dense_3_accuracy: 0.8237 - dense_4_accuracy: 0.9252 - dense_5_accuracy: 0.9963 - dense_6_accuracy: 0.9116\n",
      "Epoch 00021: val_loss did not improve from 3.36789\n",
      "90/90 [==============================] - 22s 239ms/step - loss: 1.3880 - dense_2_loss: 0.4331 - dense_3_loss: 0.4090 - dense_4_loss: 0.2514 - dense_5_loss: 0.0233 - dense_6_loss: 0.2713 - dense_2_accuracy: 0.7994 - dense_3_accuracy: 0.8235 - dense_4_accuracy: 0.9251 - dense_5_accuracy: 0.9963 - dense_6_accuracy: 0.9116 - val_loss: 4.7503 - val_dense_2_loss: 0.5688 - val_dense_3_loss: 0.5173 - val_dense_4_loss: 0.0828 - val_dense_5_loss: 2.3771 - val_dense_6_loss: 1.2044 - val_dense_2_accuracy: 0.8428 - val_dense_3_accuracy: 0.8014 - val_dense_4_accuracy: 1.0000 - val_dense_5_accuracy: 0.5719 - val_dense_6_accuracy: 0.4786\n",
      "Epoch 22/40\n",
      "89/90 [============================>.] - ETA: 0s - loss: 1.3397 - dense_2_loss: 0.4109 - dense_3_loss: 0.3948 - dense_4_loss: 0.2459 - dense_5_loss: 0.0232 - dense_6_loss: 0.2649 - dense_2_accuracy: 0.8028 - dense_3_accuracy: 0.8253 - dense_4_accuracy: 0.9250 - dense_5_accuracy: 0.9963 - dense_6_accuracy: 0.9115\n",
      "Epoch 00022: val_loss did not improve from 3.36789\n",
      "90/90 [==============================] - 22s 240ms/step - loss: 1.3395 - dense_2_loss: 0.4109 - dense_3_loss: 0.3948 - dense_4_loss: 0.2458 - dense_5_loss: 0.0232 - dense_6_loss: 0.2648 - dense_2_accuracy: 0.8027 - dense_3_accuracy: 0.8253 - dense_4_accuracy: 0.9251 - dense_5_accuracy: 0.9963 - dense_6_accuracy: 0.9116 - val_loss: 4.7669 - val_dense_2_loss: 0.5824 - val_dense_3_loss: 0.5006 - val_dense_4_loss: 0.0791 - val_dense_5_loss: 2.4020 - val_dense_6_loss: 1.2028 - val_dense_2_accuracy: 0.8365 - val_dense_3_accuracy: 0.8161 - val_dense_4_accuracy: 1.0000 - val_dense_5_accuracy: 0.5719 - val_dense_6_accuracy: 0.4786\n",
      "Epoch 23/40\n",
      "89/90 [============================>.] - ETA: 0s - loss: 1.2954 - dense_2_loss: 0.3919 - dense_3_loss: 0.3838 - dense_4_loss: 0.2391 - dense_5_loss: 0.0230 - dense_6_loss: 0.2577 - dense_2_accuracy: 0.8091 - dense_3_accuracy: 0.8311 - dense_4_accuracy: 0.9250 - dense_5_accuracy: 0.9963 - dense_6_accuracy: 0.9116\n",
      "Epoch 00023: val_loss did not improve from 3.36789\n",
      "90/90 [==============================] - 22s 241ms/step - loss: 1.2950 - dense_2_loss: 0.3917 - dense_3_loss: 0.3836 - dense_4_loss: 0.2389 - dense_5_loss: 0.0230 - dense_6_loss: 0.2577 - dense_2_accuracy: 0.8092 - dense_3_accuracy: 0.8312 - dense_4_accuracy: 0.9251 - dense_5_accuracy: 0.9963 - dense_6_accuracy: 0.9116 - val_loss: 4.8630 - val_dense_2_loss: 0.6766 - val_dense_3_loss: 0.4714 - val_dense_4_loss: 0.0696 - val_dense_5_loss: 2.4082 - val_dense_6_loss: 1.2371 - val_dense_2_accuracy: 0.8147 - val_dense_3_accuracy: 0.8653 - val_dense_4_accuracy: 1.0000 - val_dense_5_accuracy: 0.5719 - val_dense_6_accuracy: 0.4786\n",
      "Epoch 24/40\n",
      "89/90 [============================>.] - ETA: 0s - loss: 1.2568 - dense_2_loss: 0.3768 - dense_3_loss: 0.3742 - dense_4_loss: 0.2324 - dense_5_loss: 0.0230 - dense_6_loss: 0.2504 - dense_2_accuracy: 0.8189 - dense_3_accuracy: 0.8315 - dense_4_accuracy: 0.9250 - dense_5_accuracy: 0.9963 - dense_6_accuracy: 0.9115\n",
      "Epoch 00024: val_loss did not improve from 3.36789\n",
      "90/90 [==============================] - 22s 239ms/step - loss: 1.2567 - dense_2_loss: 0.3768 - dense_3_loss: 0.3743 - dense_4_loss: 0.2323 - dense_5_loss: 0.0230 - dense_6_loss: 0.2503 - dense_2_accuracy: 0.8189 - dense_3_accuracy: 0.8314 - dense_4_accuracy: 0.9251 - dense_5_accuracy: 0.9963 - dense_6_accuracy: 0.9116 - val_loss: 4.8618 - val_dense_2_loss: 0.6969 - val_dense_3_loss: 0.4714 - val_dense_4_loss: 0.0647 - val_dense_5_loss: 2.3763 - val_dense_6_loss: 1.2525 - val_dense_2_accuracy: 0.7944 - val_dense_3_accuracy: 0.8716 - val_dense_4_accuracy: 1.0000 - val_dense_5_accuracy: 0.5719 - val_dense_6_accuracy: 0.4786\n",
      "Epoch 25/40\n",
      "89/90 [============================>.] - ETA: 0s - loss: 1.2162 - dense_2_loss: 0.3606 - dense_3_loss: 0.3651 - dense_4_loss: 0.2247 - dense_5_loss: 0.0229 - dense_6_loss: 0.2429 - dense_2_accuracy: 0.8305 - dense_3_accuracy: 0.8387 - dense_4_accuracy: 0.9251 - dense_5_accuracy: 0.9963 - dense_6_accuracy: 0.9115\n",
      "Epoch 00025: val_loss did not improve from 3.36789\n",
      "90/90 [==============================] - 22s 243ms/step - loss: 1.2162 - dense_2_loss: 0.3606 - dense_3_loss: 0.3651 - dense_4_loss: 0.2248 - dense_5_loss: 0.0229 - dense_6_loss: 0.2428 - dense_2_accuracy: 0.8305 - dense_3_accuracy: 0.8388 - dense_4_accuracy: 0.9251 - dense_5_accuracy: 0.9963 - dense_6_accuracy: 0.9116 - val_loss: 4.7783 - val_dense_2_loss: 0.6400 - val_dense_3_loss: 0.4929 - val_dense_4_loss: 0.0654 - val_dense_5_loss: 2.3298 - val_dense_6_loss: 1.2502 - val_dense_2_accuracy: 0.8182 - val_dense_3_accuracy: 0.8505 - val_dense_4_accuracy: 1.0000 - val_dense_5_accuracy: 0.5719 - val_dense_6_accuracy: 0.4786\n",
      "Epoch 26/40\n",
      "89/90 [============================>.] - ETA: 0s - loss: 1.1713 - dense_2_loss: 0.3432 - dense_3_loss: 0.3540 - dense_4_loss: 0.2167 - dense_5_loss: 0.0227 - dense_6_loss: 0.2348 - dense_2_accuracy: 0.8398 - dense_3_accuracy: 0.8429 - dense_4_accuracy: 0.9251 - dense_5_accuracy: 0.9963 - dense_6_accuracy: 0.9116\n",
      "Epoch 00026: val_loss did not improve from 3.36789\n",
      "90/90 [==============================] - 21s 238ms/step - loss: 1.1711 - dense_2_loss: 0.3430 - dense_3_loss: 0.3539 - dense_4_loss: 0.2168 - dense_5_loss: 0.0226 - dense_6_loss: 0.2347 - dense_2_accuracy: 0.8399 - dense_3_accuracy: 0.8430 - dense_4_accuracy: 0.9251 - dense_5_accuracy: 0.9963 - dense_6_accuracy: 0.9116 - val_loss: 4.7464 - val_dense_2_loss: 0.6591 - val_dense_3_loss: 0.4745 - val_dense_4_loss: 0.0672 - val_dense_5_loss: 2.2854 - val_dense_6_loss: 1.2602 - val_dense_2_accuracy: 0.8133 - val_dense_3_accuracy: 0.8632 - val_dense_4_accuracy: 1.0000 - val_dense_5_accuracy: 0.5719 - val_dense_6_accuracy: 0.4786\n",
      "Epoch 27/40\n",
      "89/90 [============================>.] - ETA: 0s - loss: 1.1300 - dense_2_loss: 0.3293 - dense_3_loss: 0.3435 - dense_4_loss: 0.2073 - dense_5_loss: 0.0225 - dense_6_loss: 0.2274 - dense_2_accuracy: 0.8513 - dense_3_accuracy: 0.8426 - dense_4_accuracy: 0.9250 - dense_5_accuracy: 0.9963 - dense_6_accuracy: 0.9116\n",
      "Epoch 00027: val_loss did not improve from 3.36789\n",
      "90/90 [==============================] - 21s 238ms/step - loss: 1.1303 - dense_2_loss: 0.3296 - dense_3_loss: 0.3437 - dense_4_loss: 0.2072 - dense_5_loss: 0.0225 - dense_6_loss: 0.2273 - dense_2_accuracy: 0.8512 - dense_3_accuracy: 0.8425 - dense_4_accuracy: 0.9251 - dense_5_accuracy: 0.9963 - dense_6_accuracy: 0.9116 - val_loss: 4.7088 - val_dense_2_loss: 0.6065 - val_dense_3_loss: 0.4966 - val_dense_4_loss: 0.0632 - val_dense_5_loss: 2.2843 - val_dense_6_loss: 1.2581 - val_dense_2_accuracy: 0.8386 - val_dense_3_accuracy: 0.8554 - val_dense_4_accuracy: 1.0000 - val_dense_5_accuracy: 0.5719 - val_dense_6_accuracy: 0.4786\n",
      "Epoch 28/40\n",
      "89/90 [============================>.] - ETA: 0s - loss: 1.0914 - dense_2_loss: 0.3166 - dense_3_loss: 0.3339 - dense_4_loss: 0.1985 - dense_5_loss: 0.0224 - dense_6_loss: 0.2200 - dense_2_accuracy: 0.8584 - dense_3_accuracy: 0.8487 - dense_4_accuracy: 0.9250 - dense_5_accuracy: 0.9963 - dense_6_accuracy: 0.9135\n",
      "Epoch 00028: val_loss did not improve from 3.36789\n",
      "90/90 [==============================] - 22s 241ms/step - loss: 1.0915 - dense_2_loss: 0.3166 - dense_3_loss: 0.3339 - dense_4_loss: 0.1984 - dense_5_loss: 0.0224 - dense_6_loss: 0.2202 - dense_2_accuracy: 0.8585 - dense_3_accuracy: 0.8487 - dense_4_accuracy: 0.9251 - dense_5_accuracy: 0.9963 - dense_6_accuracy: 0.9134 - val_loss: 4.6470 - val_dense_2_loss: 0.6032 - val_dense_3_loss: 0.4618 - val_dense_4_loss: 0.0686 - val_dense_5_loss: 2.2522 - val_dense_6_loss: 1.2612 - val_dense_2_accuracy: 0.8421 - val_dense_3_accuracy: 0.8695 - val_dense_4_accuracy: 1.0000 - val_dense_5_accuracy: 0.5719 - val_dense_6_accuracy: 0.4786\n",
      "Epoch 29/40\n",
      "89/90 [============================>.] - ETA: 0s - loss: 1.0520 - dense_2_loss: 0.3053 - dense_3_loss: 0.3241 - dense_4_loss: 0.1879 - dense_5_loss: 0.0217 - dense_6_loss: 0.2130 - dense_2_accuracy: 0.8627 - dense_3_accuracy: 0.8543 - dense_4_accuracy: 0.9252 - dense_5_accuracy: 0.9964 - dense_6_accuracy: 0.9327\n",
      "Epoch 00029: val_loss did not improve from 3.36789\n",
      "90/90 [==============================] - 22s 239ms/step - loss: 1.0526 - dense_2_loss: 0.3053 - dense_3_loss: 0.3240 - dense_4_loss: 0.1882 - dense_5_loss: 0.0222 - dense_6_loss: 0.2129 - dense_2_accuracy: 0.8627 - dense_3_accuracy: 0.8543 - dense_4_accuracy: 0.9251 - dense_5_accuracy: 0.9963 - dense_6_accuracy: 0.9327 - val_loss: 4.5025 - val_dense_2_loss: 0.5383 - val_dense_3_loss: 0.4670 - val_dense_4_loss: 0.0734 - val_dense_5_loss: 2.2130 - val_dense_6_loss: 1.2107 - val_dense_2_accuracy: 0.8632 - val_dense_3_accuracy: 0.8723 - val_dense_4_accuracy: 1.0000 - val_dense_5_accuracy: 0.5719 - val_dense_6_accuracy: 0.4786\n",
      "Epoch 30/40\n",
      "89/90 [============================>.] - ETA: 0s - loss: 1.0170 - dense_2_loss: 0.2956 - dense_3_loss: 0.3148 - dense_4_loss: 0.1775 - dense_5_loss: 0.0220 - dense_6_loss: 0.2070 - dense_2_accuracy: 0.8687 - dense_3_accuracy: 0.8580 - dense_4_accuracy: 0.9262 - dense_5_accuracy: 0.9963 - dense_6_accuracy: 0.9383\n",
      "Epoch 00030: val_loss did not improve from 3.36789\n",
      "90/90 [==============================] - 22s 240ms/step - loss: 1.0169 - dense_2_loss: 0.2955 - dense_3_loss: 0.3147 - dense_4_loss: 0.1776 - dense_5_loss: 0.0220 - dense_6_loss: 0.2070 - dense_2_accuracy: 0.8688 - dense_3_accuracy: 0.8581 - dense_4_accuracy: 0.9261 - dense_5_accuracy: 0.9963 - dense_6_accuracy: 0.9382 - val_loss: 4.5681 - val_dense_2_loss: 0.5951 - val_dense_3_loss: 0.4621 - val_dense_4_loss: 0.0677 - val_dense_5_loss: 2.1673 - val_dense_6_loss: 1.2758 - val_dense_2_accuracy: 0.8358 - val_dense_3_accuracy: 0.8716 - val_dense_4_accuracy: 1.0000 - val_dense_5_accuracy: 0.5719 - val_dense_6_accuracy: 0.4786\n",
      "Epoch 31/40\n",
      "89/90 [============================>.] - ETA: 0s - loss: 0.9839 - dense_2_loss: 0.2862 - dense_3_loss: 0.3070 - dense_4_loss: 0.1673 - dense_5_loss: 0.0219 - dense_6_loss: 0.2014 - dense_2_accuracy: 0.8711 - dense_3_accuracy: 0.8636 - dense_4_accuracy: 0.9386 - dense_5_accuracy: 0.9963 - dense_6_accuracy: 0.9383\n",
      "Epoch 00031: val_loss did not improve from 3.36789\n",
      "90/90 [==============================] - 22s 241ms/step - loss: 0.9836 - dense_2_loss: 0.2861 - dense_3_loss: 0.3069 - dense_4_loss: 0.1673 - dense_5_loss: 0.0219 - dense_6_loss: 0.2014 - dense_2_accuracy: 0.8712 - dense_3_accuracy: 0.8637 - dense_4_accuracy: 0.9387 - dense_5_accuracy: 0.9963 - dense_6_accuracy: 0.9382 - val_loss: 4.5726 - val_dense_2_loss: 0.5822 - val_dense_3_loss: 0.4799 - val_dense_4_loss: 0.0681 - val_dense_5_loss: 2.1485 - val_dense_6_loss: 1.2940 - val_dense_2_accuracy: 0.8428 - val_dense_3_accuracy: 0.8639 - val_dense_4_accuracy: 1.0000 - val_dense_5_accuracy: 0.5719 - val_dense_6_accuracy: 0.4786\n",
      "Epoch 32/40\n",
      "89/90 [============================>.] - ETA: 0s - loss: 0.9518 - dense_2_loss: 0.2776 - dense_3_loss: 0.2987 - dense_4_loss: 0.1585 - dense_5_loss: 0.0219 - dense_6_loss: 0.1951 - dense_2_accuracy: 0.8748 - dense_3_accuracy: 0.8674 - dense_4_accuracy: 0.9466 - dense_5_accuracy: 0.9963 - dense_6_accuracy: 0.9382\n",
      "Epoch 00032: val_loss did not improve from 3.36789\n",
      "90/90 [==============================] - 27s 297ms/step - loss: 0.9517 - dense_2_loss: 0.2775 - dense_3_loss: 0.2988 - dense_4_loss: 0.1585 - dense_5_loss: 0.0219 - dense_6_loss: 0.1950 - dense_2_accuracy: 0.8748 - dense_3_accuracy: 0.8673 - dense_4_accuracy: 0.9467 - dense_5_accuracy: 0.9963 - dense_6_accuracy: 0.9382 - val_loss: 4.7001 - val_dense_2_loss: 0.6906 - val_dense_3_loss: 0.4218 - val_dense_4_loss: 0.0639 - val_dense_5_loss: 2.1612 - val_dense_6_loss: 1.3626 - val_dense_2_accuracy: 0.7586 - val_dense_3_accuracy: 0.8884 - val_dense_4_accuracy: 1.0000 - val_dense_5_accuracy: 0.5719 - val_dense_6_accuracy: 0.4786\n",
      "Epoch 33/40\n",
      "89/90 [============================>.] - ETA: 0s - loss: 0.9230 - dense_2_loss: 0.2706 - dense_3_loss: 0.2916 - dense_4_loss: 0.1501 - dense_5_loss: 0.0216 - dense_6_loss: 0.1890 - dense_2_accuracy: 0.8788 - dense_3_accuracy: 0.8714 - dense_4_accuracy: 0.9552 - dense_5_accuracy: 0.9963 - dense_6_accuracy: 0.9383\n",
      "Epoch 00033: val_loss did not improve from 3.36789\n",
      "90/90 [==============================] - 21s 235ms/step - loss: 0.9228 - dense_2_loss: 0.2706 - dense_3_loss: 0.2915 - dense_4_loss: 0.1501 - dense_5_loss: 0.0216 - dense_6_loss: 0.1890 - dense_2_accuracy: 0.8788 - dense_3_accuracy: 0.8715 - dense_4_accuracy: 0.9553 - dense_5_accuracy: 0.9963 - dense_6_accuracy: 0.9382 - val_loss: 4.7421 - val_dense_2_loss: 0.7104 - val_dense_3_loss: 0.4228 - val_dense_4_loss: 0.0593 - val_dense_5_loss: 2.1515 - val_dense_6_loss: 1.3980 - val_dense_2_accuracy: 0.7425 - val_dense_3_accuracy: 0.8877 - val_dense_4_accuracy: 1.0000 - val_dense_5_accuracy: 0.5719 - val_dense_6_accuracy: 0.4786\n",
      "Epoch 34/40\n",
      "89/90 [============================>.] - ETA: 0s - loss: 0.8979 - dense_2_loss: 0.2647 - dense_3_loss: 0.2851 - dense_4_loss: 0.1416 - dense_5_loss: 0.0215 - dense_6_loss: 0.1851 - dense_2_accuracy: 0.8770 - dense_3_accuracy: 0.8722 - dense_4_accuracy: 0.9644 - dense_5_accuracy: 0.9963 - dense_6_accuracy: 0.9382\n",
      "Epoch 00034: val_loss did not improve from 3.36789\n",
      "90/90 [==============================] - 22s 241ms/step - loss: 0.8978 - dense_2_loss: 0.2647 - dense_3_loss: 0.2851 - dense_4_loss: 0.1415 - dense_5_loss: 0.0215 - dense_6_loss: 0.1850 - dense_2_accuracy: 0.8770 - dense_3_accuracy: 0.8722 - dense_4_accuracy: 0.9644 - dense_5_accuracy: 0.9963 - dense_6_accuracy: 0.9382 - val_loss: 4.5151 - val_dense_2_loss: 0.5179 - val_dense_3_loss: 0.5164 - val_dense_4_loss: 0.0657 - val_dense_5_loss: 2.0675 - val_dense_6_loss: 1.3477 - val_dense_2_accuracy: 0.8695 - val_dense_3_accuracy: 0.8575 - val_dense_4_accuracy: 1.0000 - val_dense_5_accuracy: 0.5719 - val_dense_6_accuracy: 0.4786\n",
      "Epoch 35/40\n",
      "89/90 [============================>.] - ETA: 0s - loss: 0.8792 - dense_2_loss: 0.2601 - dense_3_loss: 0.2813 - dense_4_loss: 0.1350 - dense_5_loss: 0.0214 - dense_6_loss: 0.1815 - dense_2_accuracy: 0.8772 - dense_3_accuracy: 0.8719 - dense_4_accuracy: 0.9664 - dense_5_accuracy: 0.9963 - dense_6_accuracy: 0.9382\n",
      "Epoch 00035: val_loss did not improve from 3.36789\n",
      "90/90 [==============================] - 21s 236ms/step - loss: 0.8789 - dense_2_loss: 0.2599 - dense_3_loss: 0.2812 - dense_4_loss: 0.1349 - dense_5_loss: 0.0214 - dense_6_loss: 0.1814 - dense_2_accuracy: 0.8773 - dense_3_accuracy: 0.8718 - dense_4_accuracy: 0.9664 - dense_5_accuracy: 0.9963 - dense_6_accuracy: 0.9382 - val_loss: 4.6135 - val_dense_2_loss: 0.6076 - val_dense_3_loss: 0.4693 - val_dense_4_loss: 0.0607 - val_dense_5_loss: 2.0579 - val_dense_6_loss: 1.4180 - val_dense_2_accuracy: 0.8260 - val_dense_3_accuracy: 0.8674 - val_dense_4_accuracy: 1.0000 - val_dense_5_accuracy: 0.5719 - val_dense_6_accuracy: 0.4786\n",
      "Epoch 36/40\n",
      "89/90 [============================>.] - ETA: 0s - loss: 0.8564 - dense_2_loss: 0.2536 - dense_3_loss: 0.2748 - dense_4_loss: 0.1281 - dense_5_loss: 0.0214 - dense_6_loss: 0.1786 - dense_2_accuracy: 0.8821 - dense_3_accuracy: 0.8736 - dense_4_accuracy: 0.9667 - dense_5_accuracy: 0.9963 - dense_6_accuracy: 0.9383\n",
      "Epoch 00036: val_loss did not improve from 3.36789\n",
      "90/90 [==============================] - 23s 258ms/step - loss: 0.8568 - dense_2_loss: 0.2536 - dense_3_loss: 0.2751 - dense_4_loss: 0.1281 - dense_5_loss: 0.0214 - dense_6_loss: 0.1787 - dense_2_accuracy: 0.8822 - dense_3_accuracy: 0.8733 - dense_4_accuracy: 0.9668 - dense_5_accuracy: 0.9963 - dense_6_accuracy: 0.9382 - val_loss: 4.5133 - val_dense_2_loss: 0.5605 - val_dense_3_loss: 0.4819 - val_dense_4_loss: 0.0629 - val_dense_5_loss: 2.0230 - val_dense_6_loss: 1.3850 - val_dense_2_accuracy: 0.8646 - val_dense_3_accuracy: 0.8618 - val_dense_4_accuracy: 1.0000 - val_dense_5_accuracy: 0.5719 - val_dense_6_accuracy: 0.4786\n",
      "Epoch 37/40\n",
      "89/90 [============================>.] - ETA: 0s - loss: 0.8416 - dense_2_loss: 0.2505 - dense_3_loss: 0.2711 - dense_4_loss: 0.1229 - dense_5_loss: 0.0213 - dense_6_loss: 0.1758 - dense_2_accuracy: 0.8811 - dense_3_accuracy: 0.8774 - dense_4_accuracy: 0.9669 - dense_5_accuracy: 0.9963 - dense_6_accuracy: 0.9383\n",
      "Epoch 00037: val_loss did not improve from 3.36789\n",
      "90/90 [==============================] - 21s 236ms/step - loss: 0.8415 - dense_2_loss: 0.2505 - dense_3_loss: 0.2710 - dense_4_loss: 0.1228 - dense_5_loss: 0.0213 - dense_6_loss: 0.1758 - dense_2_accuracy: 0.8811 - dense_3_accuracy: 0.8775 - dense_4_accuracy: 0.9669 - dense_5_accuracy: 0.9963 - dense_6_accuracy: 0.9382 - val_loss: 4.5969 - val_dense_2_loss: 0.6406 - val_dense_3_loss: 0.4432 - val_dense_4_loss: 0.0591 - val_dense_5_loss: 2.0116 - val_dense_6_loss: 1.4424 - val_dense_2_accuracy: 0.8211 - val_dense_3_accuracy: 0.8849 - val_dense_4_accuracy: 1.0000 - val_dense_5_accuracy: 0.5719 - val_dense_6_accuracy: 0.4786\n",
      "Epoch 38/40\n",
      "89/90 [============================>.] - ETA: 0s - loss: 0.8195 - dense_2_loss: 0.2434 - dense_3_loss: 0.2655 - dense_4_loss: 0.1178 - dense_5_loss: 0.0211 - dense_6_loss: 0.1717 - dense_2_accuracy: 0.8837 - dense_3_accuracy: 0.8796 - dense_4_accuracy: 0.9676 - dense_5_accuracy: 0.9963 - dense_6_accuracy: 0.9383\n",
      "Epoch 00038: val_loss did not improve from 3.36789\n",
      "90/90 [==============================] - 21s 237ms/step - loss: 0.8197 - dense_2_loss: 0.2435 - dense_3_loss: 0.2654 - dense_4_loss: 0.1179 - dense_5_loss: 0.0211 - dense_6_loss: 0.1718 - dense_2_accuracy: 0.8837 - dense_3_accuracy: 0.8796 - dense_4_accuracy: 0.9675 - dense_5_accuracy: 0.9963 - dense_6_accuracy: 0.9382 - val_loss: 4.5053 - val_dense_2_loss: 0.5915 - val_dense_3_loss: 0.4413 - val_dense_4_loss: 0.0633 - val_dense_5_loss: 1.9769 - val_dense_6_loss: 1.4323 - val_dense_2_accuracy: 0.8337 - val_dense_3_accuracy: 0.8870 - val_dense_4_accuracy: 1.0000 - val_dense_5_accuracy: 0.5719 - val_dense_6_accuracy: 0.4786\n",
      "Epoch 39/40\n",
      "89/90 [============================>.] - ETA: 0s - loss: 0.8117 - dense_2_loss: 0.2436 - dense_3_loss: 0.2640 - dense_4_loss: 0.1132 - dense_5_loss: 0.0211 - dense_6_loss: 0.1697 - dense_2_accuracy: 0.8850 - dense_3_accuracy: 0.8826 - dense_4_accuracy: 0.9704 - dense_5_accuracy: 0.9963 - dense_6_accuracy: 0.9383\n",
      "Epoch 00039: val_loss did not improve from 3.36789\n",
      "90/90 [==============================] - 21s 238ms/step - loss: 0.8120 - dense_2_loss: 0.2436 - dense_3_loss: 0.2640 - dense_4_loss: 0.1134 - dense_5_loss: 0.0211 - dense_6_loss: 0.1699 - dense_2_accuracy: 0.8850 - dense_3_accuracy: 0.8827 - dense_4_accuracy: 0.9704 - dense_5_accuracy: 0.9963 - dense_6_accuracy: 0.9382 - val_loss: 4.5143 - val_dense_2_loss: 0.6572 - val_dense_3_loss: 0.4063 - val_dense_4_loss: 0.0627 - val_dense_5_loss: 1.9513 - val_dense_6_loss: 1.4368 - val_dense_2_accuracy: 0.8189 - val_dense_3_accuracy: 0.8968 - val_dense_4_accuracy: 1.0000 - val_dense_5_accuracy: 0.5719 - val_dense_6_accuracy: 0.4786\n",
      "Epoch 40/40\n",
      "89/90 [============================>.] - ETA: 0s - loss: 0.7959 - dense_2_loss: 0.2395 - dense_3_loss: 0.2591 - dense_4_loss: 0.1097 - dense_5_loss: 0.0211 - dense_6_loss: 0.1666 - dense_2_accuracy: 0.8848 - dense_3_accuracy: 0.8829 - dense_4_accuracy: 0.9730 - dense_5_accuracy: 0.9963 - dense_6_accuracy: 0.9381\n",
      "Epoch 00040: val_loss did not improve from 3.36789\n",
      "90/90 [==============================] - 21s 237ms/step - loss: 0.7958 - dense_2_loss: 0.2394 - dense_3_loss: 0.2591 - dense_4_loss: 0.1097 - dense_5_loss: 0.0211 - dense_6_loss: 0.1666 - dense_2_accuracy: 0.8849 - dense_3_accuracy: 0.8829 - dense_4_accuracy: 0.9730 - dense_5_accuracy: 0.9963 - dense_6_accuracy: 0.9381 - val_loss: 4.5571 - val_dense_2_loss: 0.6752 - val_dense_3_loss: 0.4022 - val_dense_4_loss: 0.0625 - val_dense_5_loss: 1.9364 - val_dense_6_loss: 1.4807 - val_dense_2_accuracy: 0.8084 - val_dense_3_accuracy: 0.8961 - val_dense_4_accuracy: 1.0000 - val_dense_5_accuracy: 0.5719 - val_dense_6_accuracy: 0.4786\n"
     ]
    }
   ],
   "source": [
    "class_weights = [{0: 1., 1: 5.},{0: 1., 1: 5.},{0: 1., 1: 5.},{0: 1., 1: 5.},{0: 1., 1: 5.}]\n",
    "\n",
    "history = model.fit(x = x_train,\n",
    "          y = [y_train[0], y_train[1], y_train[2], y_train[3], y_train[4]],\n",
    "          validation_data = (x_validate, [y_validate[0], y_validate[1], y_validate[2], y_validate[3], y_validate[4]]),\n",
    "          epochs = 40,\n",
    "          batch_size = 128,\n",
    "          callbacks=[mcp,tbCallback])\n",
    "\n",
    "with open('history/History-ALL-40EP-CNN', 'wb') as file_pi:\n",
    "    pickle.dump(history.history, file_pi)"
   ]
  },
  {
   "cell_type": "markdown",
   "metadata": {},
   "source": [
    "### Model Evaluation using Testing Set"
   ]
  },
  {
   "cell_type": "code",
   "execution_count": 32,
   "metadata": {},
   "outputs": [],
   "source": [
    "# Load model\n",
    "model = tf.keras.models.load_model(\"model/model-ALL-01.hdf5\")"
   ]
  },
  {
   "cell_type": "code",
   "execution_count": 33,
   "metadata": {},
   "outputs": [
    {
     "name": "stdout",
     "output_type": "stream",
     "text": [
      "12/12 [==============================] - 1s 67ms/step - loss: 3.3192 - dense_2_loss: 0.8027 - dense_3_loss: 0.7577 - dense_4_loss: 0.5557 - dense_5_loss: 0.5122 - dense_6_loss: 0.6910 - dense_2_accuracy: 0.0000e+00 - dense_3_accuracy: 0.0204 - dense_4_accuracy: 1.0000 - dense_5_accuracy: 1.0000 - dense_6_accuracy: 0.9796\n",
      "loss: 3.319195032119751\n",
      "dense_2_loss: 0.8026708960533142\n",
      "dense_3_loss: 0.7576974630355835\n",
      "dense_4_loss: 0.555677592754364\n",
      "dense_5_loss: 0.5121943950653076\n",
      "dense_6_loss: 0.6909546852111816\n",
      "dense_2_accuracy: 0.0\n",
      "dense_3_accuracy: 0.020350877195596695\n",
      "dense_4_accuracy: 1.0\n",
      "dense_5_accuracy: 1.0\n",
      "dense_6_accuracy: 0.9796491265296936\n"
     ]
    }
   ],
   "source": [
    "results = model.evaluate(x_test, y_test, batch_size=128)\n",
    "for num in range(0,len(model.metrics_names)):\n",
    "    print(model.metrics_names[num]+': '+str(results[num]))"
   ]
  },
  {
   "cell_type": "markdown",
   "metadata": {},
   "source": [
    "### Check The Evaluation Metrics"
   ]
  },
  {
   "cell_type": "code",
   "execution_count": 34,
   "metadata": {},
   "outputs": [],
   "source": [
    "predicted = model.predict(x_test)"
   ]
  },
  {
   "cell_type": "code",
   "execution_count": 35,
   "metadata": {},
   "outputs": [
    {
     "name": "stdout",
     "output_type": "stream",
     "text": [
      "1    1425\n",
      "dtype: int64\n",
      "0    1425\n",
      "dtype: int64\n",
      "0    1425\n",
      "dtype: int64\n",
      "0    1425\n",
      "dtype: int64\n",
      "0    1425\n",
      "dtype: int64\n"
     ]
    }
   ],
   "source": [
    "pred_test = [[],[],[],[],[]]\n",
    "\n",
    "for col in range(0,len(predicted)):\n",
    "    for row in predicted[col]:\n",
    "        if row[0] >= row[1]:\n",
    "            pred_test[col].append(0)\n",
    "        else:\n",
    "            pred_test[col].append(1)\n",
    "            \n",
    "for col in range(0,len(predicted)):\n",
    "    print(pd.value_counts(pred_test[col]))"
   ]
  },
  {
   "cell_type": "markdown",
   "metadata": {},
   "source": [
    "### Evaluate on the testing set"
   ]
  },
  {
   "cell_type": "code",
   "execution_count": 36,
   "metadata": {},
   "outputs": [
    {
     "name": "stdout",
     "output_type": "stream",
     "text": [
      "\n",
      "This is evaluation for column 1\n",
      "[[   0 1425]\n",
      " [   0    0]]\n",
      "\n",
      "TP: 0\n",
      "FP: 1425\n",
      "TN: 0\n",
      "FN: 0\n",
      "\n",
      "Accuracy: 0.0\n",
      "Precision: 0.0\n",
      "Recall: 0.0\n",
      "F-measure: 0.0\n",
      "Precision-Recall AUC: nan\n"
     ]
    },
    {
     "name": "stderr",
     "output_type": "stream",
     "text": [
      "/home/huydnevermore/.local/lib/python3.8/site-packages/sklearn/metrics/_classification.py:1318: UndefinedMetricWarning: Recall is ill-defined and being set to 0.0 due to no true samples. Use `zero_division` parameter to control this behavior.\n",
      "  _warn_prf(average, modifier, msg_start, len(result))\n",
      "/home/huydnevermore/.local/lib/python3.8/site-packages/sklearn/metrics/_ranking.py:864: RuntimeWarning: invalid value encountered in true_divide\n",
      "  recall = tps / tps[-1]\n"
     ]
    },
    {
     "ename": "ValueError",
     "evalue": "Only one class present in y_true. ROC AUC score is not defined in that case.",
     "output_type": "error",
     "traceback": [
      "\u001b[0;31m---------------------------------------------------------------------------\u001b[0m",
      "\u001b[0;31mValueError\u001b[0m                                Traceback (most recent call last)",
      "\u001b[0;32m/tmp/ipykernel_5584/508455849.py\u001b[0m in \u001b[0;36m<module>\u001b[0;34m\u001b[0m\n\u001b[1;32m     15\u001b[0m     \u001b[0mprint\u001b[0m\u001b[0;34m(\u001b[0m\u001b[0;34m'F-measure: '\u001b[0m\u001b[0;34m+\u001b[0m \u001b[0mstr\u001b[0m\u001b[0;34m(\u001b[0m\u001b[0msklearn\u001b[0m\u001b[0;34m.\u001b[0m\u001b[0mmetrics\u001b[0m\u001b[0;34m.\u001b[0m\u001b[0mf1_score\u001b[0m\u001b[0;34m(\u001b[0m\u001b[0my_true\u001b[0m\u001b[0;34m=\u001b[0m\u001b[0mtest\u001b[0m\u001b[0;34m.\u001b[0m\u001b[0miloc\u001b[0m\u001b[0;34m[\u001b[0m\u001b[0;34m:\u001b[0m\u001b[0;34m,\u001b[0m\u001b[0mcol\u001b[0m\u001b[0;34m]\u001b[0m\u001b[0;34m.\u001b[0m\u001b[0mto_numpy\u001b[0m\u001b[0;34m(\u001b[0m\u001b[0;34m)\u001b[0m\u001b[0;34m,\u001b[0m \u001b[0my_pred\u001b[0m\u001b[0;34m=\u001b[0m\u001b[0mpred_test\u001b[0m\u001b[0;34m[\u001b[0m\u001b[0mcol\u001b[0m\u001b[0;34m-\u001b[0m\u001b[0;36m1\u001b[0m\u001b[0;34m]\u001b[0m\u001b[0;34m)\u001b[0m\u001b[0;34m)\u001b[0m\u001b[0;34m)\u001b[0m\u001b[0;34m\u001b[0m\u001b[0;34m\u001b[0m\u001b[0m\n\u001b[1;32m     16\u001b[0m     \u001b[0mprint\u001b[0m\u001b[0;34m(\u001b[0m\u001b[0;34m'Precision-Recall AUC: '\u001b[0m\u001b[0;34m+\u001b[0m \u001b[0mstr\u001b[0m\u001b[0;34m(\u001b[0m\u001b[0msklearn\u001b[0m\u001b[0;34m.\u001b[0m\u001b[0mmetrics\u001b[0m\u001b[0;34m.\u001b[0m\u001b[0maverage_precision_score\u001b[0m\u001b[0;34m(\u001b[0m\u001b[0my_true\u001b[0m\u001b[0;34m=\u001b[0m\u001b[0mtest\u001b[0m\u001b[0;34m.\u001b[0m\u001b[0miloc\u001b[0m\u001b[0;34m[\u001b[0m\u001b[0;34m:\u001b[0m\u001b[0;34m,\u001b[0m\u001b[0mcol\u001b[0m\u001b[0;34m]\u001b[0m\u001b[0;34m.\u001b[0m\u001b[0mto_numpy\u001b[0m\u001b[0;34m(\u001b[0m\u001b[0;34m)\u001b[0m\u001b[0;34m,\u001b[0m \u001b[0my_score\u001b[0m\u001b[0;34m=\u001b[0m\u001b[0mpredicted\u001b[0m\u001b[0;34m[\u001b[0m\u001b[0mcol\u001b[0m\u001b[0;34m-\u001b[0m\u001b[0;36m1\u001b[0m\u001b[0;34m]\u001b[0m\u001b[0;34m[\u001b[0m\u001b[0;34m:\u001b[0m\u001b[0;34m,\u001b[0m\u001b[0;36m1\u001b[0m\u001b[0;34m]\u001b[0m\u001b[0;34m)\u001b[0m\u001b[0;34m)\u001b[0m\u001b[0;34m)\u001b[0m\u001b[0;34m\u001b[0m\u001b[0;34m\u001b[0m\u001b[0m\n\u001b[0;32m---> 17\u001b[0;31m     \u001b[0mprint\u001b[0m\u001b[0;34m(\u001b[0m\u001b[0;34m'AUC: '\u001b[0m\u001b[0;34m+\u001b[0m \u001b[0mstr\u001b[0m\u001b[0;34m(\u001b[0m\u001b[0msklearn\u001b[0m\u001b[0;34m.\u001b[0m\u001b[0mmetrics\u001b[0m\u001b[0;34m.\u001b[0m\u001b[0mroc_auc_score\u001b[0m\u001b[0;34m(\u001b[0m\u001b[0my_true\u001b[0m\u001b[0;34m=\u001b[0m\u001b[0mtest\u001b[0m\u001b[0;34m.\u001b[0m\u001b[0miloc\u001b[0m\u001b[0;34m[\u001b[0m\u001b[0;34m:\u001b[0m\u001b[0;34m,\u001b[0m\u001b[0mcol\u001b[0m\u001b[0;34m]\u001b[0m\u001b[0;34m.\u001b[0m\u001b[0mto_numpy\u001b[0m\u001b[0;34m(\u001b[0m\u001b[0;34m)\u001b[0m\u001b[0;34m,\u001b[0m \u001b[0my_score\u001b[0m\u001b[0;34m=\u001b[0m\u001b[0mpredicted\u001b[0m\u001b[0;34m[\u001b[0m\u001b[0mcol\u001b[0m\u001b[0;34m-\u001b[0m\u001b[0;36m1\u001b[0m\u001b[0;34m]\u001b[0m\u001b[0;34m[\u001b[0m\u001b[0;34m:\u001b[0m\u001b[0;34m,\u001b[0m\u001b[0;36m1\u001b[0m\u001b[0;34m]\u001b[0m\u001b[0;34m)\u001b[0m\u001b[0;34m)\u001b[0m\u001b[0;34m)\u001b[0m\u001b[0;34m\u001b[0m\u001b[0;34m\u001b[0m\u001b[0m\n\u001b[0m\u001b[1;32m     18\u001b[0m     \u001b[0mprint\u001b[0m\u001b[0;34m(\u001b[0m\u001b[0;34m'MCC: '\u001b[0m\u001b[0;34m+\u001b[0m \u001b[0mstr\u001b[0m\u001b[0;34m(\u001b[0m\u001b[0msklearn\u001b[0m\u001b[0;34m.\u001b[0m\u001b[0mmetrics\u001b[0m\u001b[0;34m.\u001b[0m\u001b[0mmatthews_corrcoef\u001b[0m\u001b[0;34m(\u001b[0m\u001b[0my_true\u001b[0m\u001b[0;34m=\u001b[0m\u001b[0mtest\u001b[0m\u001b[0;34m.\u001b[0m\u001b[0miloc\u001b[0m\u001b[0;34m[\u001b[0m\u001b[0;34m:\u001b[0m\u001b[0;34m,\u001b[0m\u001b[0mcol\u001b[0m\u001b[0;34m]\u001b[0m\u001b[0;34m.\u001b[0m\u001b[0mto_numpy\u001b[0m\u001b[0;34m(\u001b[0m\u001b[0;34m)\u001b[0m\u001b[0;34m,\u001b[0m \u001b[0my_pred\u001b[0m\u001b[0;34m=\u001b[0m\u001b[0mpred_test\u001b[0m\u001b[0;34m[\u001b[0m\u001b[0mcol\u001b[0m\u001b[0;34m-\u001b[0m\u001b[0;36m1\u001b[0m\u001b[0;34m]\u001b[0m\u001b[0;34m)\u001b[0m\u001b[0;34m)\u001b[0m\u001b[0;34m)\u001b[0m\u001b[0;34m\u001b[0m\u001b[0;34m\u001b[0m\u001b[0m\n",
      "\u001b[0;32m~/.local/lib/python3.8/site-packages/sklearn/metrics/_ranking.py\u001b[0m in \u001b[0;36mroc_auc_score\u001b[0;34m(y_true, y_score, average, sample_weight, max_fpr, multi_class, labels)\u001b[0m\n\u001b[1;32m    565\u001b[0m         \u001b[0mlabels\u001b[0m \u001b[0;34m=\u001b[0m \u001b[0mnp\u001b[0m\u001b[0;34m.\u001b[0m\u001b[0munique\u001b[0m\u001b[0;34m(\u001b[0m\u001b[0my_true\u001b[0m\u001b[0;34m)\u001b[0m\u001b[0;34m\u001b[0m\u001b[0;34m\u001b[0m\u001b[0m\n\u001b[1;32m    566\u001b[0m         \u001b[0my_true\u001b[0m \u001b[0;34m=\u001b[0m \u001b[0mlabel_binarize\u001b[0m\u001b[0;34m(\u001b[0m\u001b[0my_true\u001b[0m\u001b[0;34m,\u001b[0m \u001b[0mclasses\u001b[0m\u001b[0;34m=\u001b[0m\u001b[0mlabels\u001b[0m\u001b[0;34m)\u001b[0m\u001b[0;34m[\u001b[0m\u001b[0;34m:\u001b[0m\u001b[0;34m,\u001b[0m \u001b[0;36m0\u001b[0m\u001b[0;34m]\u001b[0m\u001b[0;34m\u001b[0m\u001b[0;34m\u001b[0m\u001b[0m\n\u001b[0;32m--> 567\u001b[0;31m         return _average_binary_score(\n\u001b[0m\u001b[1;32m    568\u001b[0m             \u001b[0mpartial\u001b[0m\u001b[0;34m(\u001b[0m\u001b[0m_binary_roc_auc_score\u001b[0m\u001b[0;34m,\u001b[0m \u001b[0mmax_fpr\u001b[0m\u001b[0;34m=\u001b[0m\u001b[0mmax_fpr\u001b[0m\u001b[0;34m)\u001b[0m\u001b[0;34m,\u001b[0m\u001b[0;34m\u001b[0m\u001b[0;34m\u001b[0m\u001b[0m\n\u001b[1;32m    569\u001b[0m             \u001b[0my_true\u001b[0m\u001b[0;34m,\u001b[0m\u001b[0;34m\u001b[0m\u001b[0;34m\u001b[0m\u001b[0m\n",
      "\u001b[0;32m~/.local/lib/python3.8/site-packages/sklearn/metrics/_base.py\u001b[0m in \u001b[0;36m_average_binary_score\u001b[0;34m(binary_metric, y_true, y_score, average, sample_weight)\u001b[0m\n\u001b[1;32m     73\u001b[0m \u001b[0;34m\u001b[0m\u001b[0m\n\u001b[1;32m     74\u001b[0m     \u001b[0;32mif\u001b[0m \u001b[0my_type\u001b[0m \u001b[0;34m==\u001b[0m \u001b[0;34m\"binary\"\u001b[0m\u001b[0;34m:\u001b[0m\u001b[0;34m\u001b[0m\u001b[0;34m\u001b[0m\u001b[0m\n\u001b[0;32m---> 75\u001b[0;31m         \u001b[0;32mreturn\u001b[0m \u001b[0mbinary_metric\u001b[0m\u001b[0;34m(\u001b[0m\u001b[0my_true\u001b[0m\u001b[0;34m,\u001b[0m \u001b[0my_score\u001b[0m\u001b[0;34m,\u001b[0m \u001b[0msample_weight\u001b[0m\u001b[0;34m=\u001b[0m\u001b[0msample_weight\u001b[0m\u001b[0;34m)\u001b[0m\u001b[0;34m\u001b[0m\u001b[0;34m\u001b[0m\u001b[0m\n\u001b[0m\u001b[1;32m     76\u001b[0m \u001b[0;34m\u001b[0m\u001b[0m\n\u001b[1;32m     77\u001b[0m     \u001b[0mcheck_consistent_length\u001b[0m\u001b[0;34m(\u001b[0m\u001b[0my_true\u001b[0m\u001b[0;34m,\u001b[0m \u001b[0my_score\u001b[0m\u001b[0;34m,\u001b[0m \u001b[0msample_weight\u001b[0m\u001b[0;34m)\u001b[0m\u001b[0;34m\u001b[0m\u001b[0;34m\u001b[0m\u001b[0m\n",
      "\u001b[0;32m~/.local/lib/python3.8/site-packages/sklearn/metrics/_ranking.py\u001b[0m in \u001b[0;36m_binary_roc_auc_score\u001b[0;34m(y_true, y_score, sample_weight, max_fpr)\u001b[0m\n\u001b[1;32m    335\u001b[0m     \u001b[0;34m\"\"\"Binary roc auc score.\"\"\"\u001b[0m\u001b[0;34m\u001b[0m\u001b[0;34m\u001b[0m\u001b[0m\n\u001b[1;32m    336\u001b[0m     \u001b[0;32mif\u001b[0m \u001b[0mlen\u001b[0m\u001b[0;34m(\u001b[0m\u001b[0mnp\u001b[0m\u001b[0;34m.\u001b[0m\u001b[0munique\u001b[0m\u001b[0;34m(\u001b[0m\u001b[0my_true\u001b[0m\u001b[0;34m)\u001b[0m\u001b[0;34m)\u001b[0m \u001b[0;34m!=\u001b[0m \u001b[0;36m2\u001b[0m\u001b[0;34m:\u001b[0m\u001b[0;34m\u001b[0m\u001b[0;34m\u001b[0m\u001b[0m\n\u001b[0;32m--> 337\u001b[0;31m         raise ValueError(\n\u001b[0m\u001b[1;32m    338\u001b[0m             \u001b[0;34m\"Only one class present in y_true. ROC AUC score \"\u001b[0m\u001b[0;34m\u001b[0m\u001b[0;34m\u001b[0m\u001b[0m\n\u001b[1;32m    339\u001b[0m             \u001b[0;34m\"is not defined in that case.\"\u001b[0m\u001b[0;34m\u001b[0m\u001b[0;34m\u001b[0m\u001b[0m\n",
      "\u001b[0;31mValueError\u001b[0m: Only one class present in y_true. ROC AUC score is not defined in that case."
     ]
    }
   ],
   "source": [
    "\n",
    "for col in range(1,6):\n",
    "    print('\\nThis is evaluation for column',col)\n",
    "    confusion = sklearn.metrics.confusion_matrix(y_true=test.iloc[:,col].to_numpy(), y_pred=pred_test[col-1])\n",
    "    print(confusion)\n",
    "    tn, fp, fn, tp = confusion.ravel()\n",
    "    print('\\nTP:',tp)\n",
    "    print('FP:',fp)\n",
    "    print('TN:',tn)\n",
    "    print('FN:',fn)\n",
    "\n",
    "    ## Performance measure\n",
    "    print('\\nAccuracy: '+ str(sklearn.metrics.accuracy_score(y_true=test.iloc[:,col].to_numpy(), y_pred=pred_test[col-1])))\n",
    "    print('Precision: '+ str(sklearn.metrics.precision_score(y_true=test.iloc[:,col].to_numpy(), y_pred=pred_test[col-1])))\n",
    "    print('Recall: '+ str(sklearn.metrics.recall_score(y_true=test.iloc[:,col].to_numpy(), y_pred=pred_test[col-1])))\n",
    "    print('F-measure: '+ str(sklearn.metrics.f1_score(y_true=test.iloc[:,col].to_numpy(), y_pred=pred_test[col-1])))\n",
    "    print('Precision-Recall AUC: '+ str(sklearn.metrics.average_precision_score(y_true=test.iloc[:,col].to_numpy(), y_score=predicted[col-1][:,1])))\n",
    "    print('AUC: '+ str(sklearn.metrics.roc_auc_score(y_true=test.iloc[:,col].to_numpy(), y_score=predicted[col-1][:,1])))\n",
    "    print('MCC: '+ str(sklearn.metrics.matthews_corrcoef(y_true=test.iloc[:,col].to_numpy(), y_pred=pred_test[col-1])))"
   ]
  },
  {
   "cell_type": "markdown",
   "metadata": {},
   "source": [
    "### Plot The Model's Training History"
   ]
  },
  {
   "cell_type": "code",
   "execution_count": 38,
   "metadata": {},
   "outputs": [
    {
     "name": "stderr",
     "output_type": "stream",
     "text": [
      "/tmp/ipykernel_5584/2513436125.py:6: UserWarning: color is redundantly defined by the 'color' keyword argument and the fmt string \"b\" (-> color=(0.0, 0.0, 1.0, 1)). The keyword argument will take precedence.\n",
      "  axs[0,0].plot(epochs_range, history.history['val_%s'%(model.metrics_names[6])], 'b', label='CWE-89', color='green')\n",
      "/tmp/ipykernel_5584/2513436125.py:7: UserWarning: color is redundantly defined by the 'color' keyword argument and the fmt string \"b\" (-> color=(0.0, 0.0, 1.0, 1)). The keyword argument will take precedence.\n",
      "  axs[0,0].plot(epochs_range, history.history['val_%s'%(model.metrics_names[7])], 'b', label='CWE-79', color='blue')\n",
      "/tmp/ipykernel_5584/2513436125.py:8: UserWarning: color is redundantly defined by the 'color' keyword argument and the fmt string \"b\" (-> color=(0.0, 0.0, 1.0, 1)). The keyword argument will take precedence.\n",
      "  axs[0,0].plot(epochs_range, history.history['val_%s'%(model.metrics_names[8])], 'b', label='CWE-352', color='red')\n",
      "/tmp/ipykernel_5584/2513436125.py:9: UserWarning: color is redundantly defined by the 'color' keyword argument and the fmt string \"b\" (-> color=(0.0, 0.0, 1.0, 1)). The keyword argument will take precedence.\n",
      "  axs[0,0].plot(epochs_range, history.history['val_%s'%(model.metrics_names[9])], 'b', label='CWE-74', color='purple')\n",
      "/tmp/ipykernel_5584/2513436125.py:10: UserWarning: color is redundantly defined by the 'color' keyword argument and the fmt string \"b\" (-> color=(0.0, 0.0, 1.0, 1)). The keyword argument will take precedence.\n",
      "  axs[0,0].plot(epochs_range, history.history['val_%s'%(model.metrics_names[10])], 'b', label='CWE-Other', color='orange')\n",
      "/tmp/ipykernel_5584/2513436125.py:15: UserWarning: color is redundantly defined by the 'color' keyword argument and the fmt string \"b\" (-> color=(0.0, 0.0, 1.0, 1)). The keyword argument will take precedence.\n",
      "  axs[0,1].plot(epochs_range, history.history['val_%s'%(model.metrics_names[1])], 'b', label='CWE-89', color='green')\n",
      "/tmp/ipykernel_5584/2513436125.py:16: UserWarning: color is redundantly defined by the 'color' keyword argument and the fmt string \"b\" (-> color=(0.0, 0.0, 1.0, 1)). The keyword argument will take precedence.\n",
      "  axs[0,1].plot(epochs_range, history.history['val_%s'%(model.metrics_names[2])], 'b', label='CWE-79', color='blue')\n",
      "/tmp/ipykernel_5584/2513436125.py:17: UserWarning: color is redundantly defined by the 'color' keyword argument and the fmt string \"b\" (-> color=(0.0, 0.0, 1.0, 1)). The keyword argument will take precedence.\n",
      "  axs[0,1].plot(epochs_range, history.history['val_%s'%(model.metrics_names[3])], 'b', label='CWE-352', color='red')\n",
      "/tmp/ipykernel_5584/2513436125.py:18: UserWarning: color is redundantly defined by the 'color' keyword argument and the fmt string \"b\" (-> color=(0.0, 0.0, 1.0, 1)). The keyword argument will take precedence.\n",
      "  axs[0,1].plot(epochs_range, history.history['val_%s'%(model.metrics_names[4])], 'b', label='CWE-74', color='purple')\n",
      "/tmp/ipykernel_5584/2513436125.py:19: UserWarning: color is redundantly defined by the 'color' keyword argument and the fmt string \"b\" (-> color=(0.0, 0.0, 1.0, 1)). The keyword argument will take precedence.\n",
      "  axs[0,1].plot(epochs_range, history.history['val_%s'%(model.metrics_names[5])], 'b', label='CWE-Other', color='orange')\n",
      "/tmp/ipykernel_5584/2513436125.py:23: UserWarning: color is redundantly defined by the 'color' keyword argument and the fmt string \"b\" (-> color=(0.0, 0.0, 1.0, 1)). The keyword argument will take precedence.\n",
      "  axs[1,0].plot(epochs_range, history.history[model.metrics_names[6]], 'b', label='CWE-89', color='green')\n",
      "/tmp/ipykernel_5584/2513436125.py:24: UserWarning: color is redundantly defined by the 'color' keyword argument and the fmt string \"b\" (-> color=(0.0, 0.0, 1.0, 1)). The keyword argument will take precedence.\n",
      "  axs[1,0].plot(epochs_range, history.history[model.metrics_names[7]], 'b', label='CWE-79', color='blue')\n",
      "/tmp/ipykernel_5584/2513436125.py:25: UserWarning: color is redundantly defined by the 'color' keyword argument and the fmt string \"b\" (-> color=(0.0, 0.0, 1.0, 1)). The keyword argument will take precedence.\n",
      "  axs[1,0].plot(epochs_range, history.history[model.metrics_names[8]], 'b', label='CWE-352', color='red')\n",
      "/tmp/ipykernel_5584/2513436125.py:26: UserWarning: color is redundantly defined by the 'color' keyword argument and the fmt string \"b\" (-> color=(0.0, 0.0, 1.0, 1)). The keyword argument will take precedence.\n",
      "  axs[1,0].plot(epochs_range, history.history[model.metrics_names[9]], 'b', label='CWE-74', color='purple')\n",
      "/tmp/ipykernel_5584/2513436125.py:27: UserWarning: color is redundantly defined by the 'color' keyword argument and the fmt string \"b\" (-> color=(0.0, 0.0, 1.0, 1)). The keyword argument will take precedence.\n",
      "  axs[1,0].plot(epochs_range, history.history[model.metrics_names[10]], 'b', label='CWE-Other', color='orange')\n",
      "/tmp/ipykernel_5584/2513436125.py:32: UserWarning: color is redundantly defined by the 'color' keyword argument and the fmt string \"b\" (-> color=(0.0, 0.0, 1.0, 1)). The keyword argument will take precedence.\n",
      "  axs[1,1].plot(epochs_range, history.history[model.metrics_names[1]], 'b', label='CWE-89', color='green')\n",
      "/tmp/ipykernel_5584/2513436125.py:33: UserWarning: color is redundantly defined by the 'color' keyword argument and the fmt string \"b\" (-> color=(0.0, 0.0, 1.0, 1)). The keyword argument will take precedence.\n",
      "  axs[1,1].plot(epochs_range, history.history[model.metrics_names[2]], 'b', label='CWE-79', color='blue')\n",
      "/tmp/ipykernel_5584/2513436125.py:34: UserWarning: color is redundantly defined by the 'color' keyword argument and the fmt string \"b\" (-> color=(0.0, 0.0, 1.0, 1)). The keyword argument will take precedence.\n",
      "  axs[1,1].plot(epochs_range, history.history[model.metrics_names[3]], 'b', label='CWE-352', color='red')\n",
      "/tmp/ipykernel_5584/2513436125.py:35: UserWarning: color is redundantly defined by the 'color' keyword argument and the fmt string \"b\" (-> color=(0.0, 0.0, 1.0, 1)). The keyword argument will take precedence.\n",
      "  axs[1,1].plot(epochs_range, history.history[model.metrics_names[4]], 'b', label='CWE-74', color='purple')\n",
      "/tmp/ipykernel_5584/2513436125.py:36: UserWarning: color is redundantly defined by the 'color' keyword argument and the fmt string \"b\" (-> color=(0.0, 0.0, 1.0, 1)). The keyword argument will take precedence.\n",
      "  axs[1,1].plot(epochs_range, history.history[model.metrics_names[5]], 'b', label='CWE-Other', color='orange')\n"
     ]
    },
    {
     "data": {
      "text/plain": [
       "<matplotlib.legend.Legend at 0x7fba34cca520>"
      ]
     },
     "execution_count": 38,
     "metadata": {},
     "output_type": "execute_result"
    },
    {
     "data": {
      "image/png": "[encoded data removed]",
      "text/plain": [
       "<Figure size 1440x1080 with 4 Axes>"
      ]
     },
     "metadata": {
      "needs_background": "light"
     },
     "output_type": "display_data"
    }
   ],
   "source": [
    "epochs_range = range(len(history.history[model.metrics_names[1]]))\n",
    "\n",
    "fig, axs = plt.subplots(2, 2, figsize=(20,15))\n",
    "fig.suptitle('CNN with 10 Epochs')\n",
    "\n",
    "axs[0,0].plot(epochs_range, history.history['val_%s'%(model.metrics_names[6])], 'b', label='CWE-89', color='green')\n",
    "axs[0,0].plot(epochs_range, history.history['val_%s'%(model.metrics_names[7])], 'b', label='CWE-79', color='blue')\n",
    "axs[0,0].plot(epochs_range, history.history['val_%s'%(model.metrics_names[8])], 'b', label='CWE-352', color='red')\n",
    "axs[0,0].plot(epochs_range, history.history['val_%s'%(model.metrics_names[9])], 'b', label='CWE-74SS', color='purple')\n",
    "axs[0,0].plot(epochs_range, history.history['val_%s'%(model.metrics_names[10])], 'b', label='CWE-Other', color='orange')\n",
    "axs[0,0].set_title('Training accuracy')\n",
    "axs[0,0].legend()\n",
    "\n",
    "\n",
    "axs[0,1].plot(epochs_range, history.history['val_%s'%(model.metrics_names[1])], 'b', label='CWE-89', color='green')\n",
    "axs[0,1].plot(epochs_range, history.history['val_%s'%(model.metrics_names[2])], 'b', label='CWE-79', color='blue')\n",
    "axs[0,1].plot(epochs_range, history.history['val_%s'%(model.metrics_names[3])], 'b', label='CWE-352', color='red')\n",
    "axs[0,1].plot(epochs_range, history.history['val_%s'%(model.metrics_names[4])], 'b', label='CWE-74SS', color='purple')\n",
    "axs[0,1].plot(epochs_range, history.history['val_%s'%(model.metrics_names[5])], 'b', label='CWE-Other', color='orange')\n",
    "axs[0,1].set_title('Training Loss')\n",
    "axs[0,1].legend()\n",
    "\n",
    "axs[1,0].plot(epochs_range, history.history[model.metrics_names[6]], 'b', label='CWE-89', color='green')\n",
    "axs[1,0].plot(epochs_range, history.history[model.metrics_names[7]], 'b', label='CWE-79', color='blue')\n",
    "axs[1,0].plot(epochs_range, history.history[model.metrics_names[8]], 'b', label='CWE-352', color='red')\n",
    "axs[1,0].plot(epochs_range, history.history[model.metrics_names[9]], 'b', label='CWE-74SS', color='purple')\n",
    "axs[1,0].plot(epochs_range, history.history[model.metrics_names[10]], 'b', label='CWE-Other', color='orange')\n",
    "axs[1,0].set_title('Validation accuracy')\n",
    "axs[1,0].legend()\n",
    "\n",
    "\n",
    "axs[1,1].plot(epochs_range, history.history[model.metrics_names[1]], 'b', label='CWE-89', color='green')\n",
    "axs[1,1].plot(epochs_range, history.history[model.metrics_names[2]], 'b', label='CWE-79', color='blue')\n",
    "axs[1,1].plot(epochs_range, history.history[model.metrics_names[3]], 'b', label='CWE-352', color='red')\n",
    "axs[1,1].plot(epochs_range, history.history[model.metrics_names[4]], 'b', label='CWE-74SS', color='purple')\n",
    "axs[1,1].plot(epochs_range, history.history[model.metrics_names[5]], 'b', label='CWE-Other', color='orange')\n",
    "axs[1,1].set_title('Validation Loss')\n",
    "axs[1,1].legend()\n",
    "\n"
   ]
  },
  {
   "cell_type": "code",
   "execution_count": null,
   "metadata": {},
   "outputs": [],
   "source": []
  }
 ],
 "metadata": {
  "kernelspec": {
   "display_name": "Python 3",
   "language": "python",
   "name": "python3"
  },
  "language_info": {
   "codemirror_mode": {
    "name": "ipython",
    "version": 3
   },
   "file_extension": ".py",
   "mimetype": "text/x-python",
   "name": "python",
   "nbconvert_exporter": "python",
   "pygments_lexer": "ipython3",
   "version": "3.8.10"
  }
 },
 "nbformat": 4,
 "nbformat_minor": 4
}
